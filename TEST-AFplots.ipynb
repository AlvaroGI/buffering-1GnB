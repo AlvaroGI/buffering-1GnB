{
 "cells": [
  {
   "cell_type": "markdown",
   "id": "7a11a714",
   "metadata": {},
   "source": [
    "# Testing A-F plots"
   ]
  },
  {
   "cell_type": "code",
   "execution_count": 2,
   "id": "62c9b13a",
   "metadata": {},
   "outputs": [],
   "source": [
    "import numpy as np\n",
    "import math\n",
    "import importlib as imp\n",
    "import matplotlib.pyplot as plt\n",
    "from tqdm.notebook import tqdm as tqdmn\n",
    "\n",
    "import main_1GnB as main"
   ]
  },
  {
   "cell_type": "markdown",
   "id": "5490b163",
   "metadata": {},
   "source": [
    "---\n",
    "---\n",
    "## Testing `single_run_1GnB()` - time evolution"
   ]
  },
  {
   "cell_type": "code",
   "execution_count": 26,
   "id": "c113d09e",
   "metadata": {},
   "outputs": [],
   "source": [
    "n = 2\n",
    "\n",
    "# GEN\n",
    "p_gen = 0.5\n",
    "F_new = 0.9\n",
    "rho_new = np.diag([F_new, (1-F_new)/3, (1-F_new)/3, (1-F_new)/3])\n",
    "\n",
    "# PURIF\n",
    "q_purif_vec = np.linspace(0,1,5)\n",
    "purif_policies = [main.policy_identity, main.policy_replacement, main.policy_DEJMPS]\n",
    "policy_names = ['Identity', 'Replacement', 'DEJMPS']\n",
    "pur_after_swap = False\n",
    "\n",
    "# NOISE\n",
    "Gamma = 1/50 #1/5\n",
    "\n",
    "# CONS\n",
    "p_cons = 0.3\n",
    "\n",
    "# Numerical\n",
    "t_end = int(1e4)\n",
    "randomseed = 2"
   ]
  },
  {
   "cell_type": "code",
   "execution_count": 27,
   "id": "f4deed77",
   "metadata": {},
   "outputs": [
    {
     "data": {
      "application/vnd.jupyter.widget-view+json": {
       "model_id": "89f80a74da9b4542b3f5331330452472",
       "version_major": 2,
       "version_minor": 0
      },
      "text/plain": [
       "  0%|          | 0/5 [00:00<?, ?it/s]"
      ]
     },
     "metadata": {},
     "output_type": "display_data"
    },
    {
     "data": {
      "application/vnd.jupyter.widget-view+json": {
       "model_id": "68fa60bf794d434480dff5a75d08940c",
       "version_major": 2,
       "version_minor": 0
      },
      "text/plain": [
       "  0%|          | 0/5 [00:00<?, ?it/s]"
      ]
     },
     "metadata": {},
     "output_type": "display_data"
    },
    {
     "data": {
      "application/vnd.jupyter.widget-view+json": {
       "model_id": "6bf4b9ac7d7d4109b174f422c2eeae04",
       "version_major": 2,
       "version_minor": 0
      },
      "text/plain": [
       "  0%|          | 0/5 [00:00<?, ?it/s]"
      ]
     },
     "metadata": {},
     "output_type": "display_data"
    }
   ],
   "source": [
    "## SIMULATION ##\n",
    "\n",
    "imp.reload(main)\n",
    "\n",
    "Fcons_avg_vec = [[] for policy in purif_policies]\n",
    "Fcons_stderr_vec = [[] for policy in purif_policies]\n",
    "A_avg_vec = [[] for policy in purif_policies]\n",
    "A_stderr_vec = [[] for policy in purif_policies]\n",
    "\n",
    "for idx_policy, purif_policy in enumerate(purif_policies):\n",
    "    for q_purif in tqdmn(q_purif_vec):\n",
    "        F_avg,F_err,A_avg,A_err,_, _, _ = main.single_run_1GnB(n, p_gen, rho_new, q_purif, \n",
    "                                                               purif_policy, pur_after_swap, Gamma,\n",
    "                                                               p_cons, t_end, randomseed)\n",
    "        Fcons_avg_vec[idx_policy] += [F_avg]\n",
    "        Fcons_stderr_vec[idx_policy] += [F_err]\n",
    "        A_avg_vec[idx_policy] += [A_avg]\n",
    "        A_stderr_vec[idx_policy] += [A_err]\n",
    "        \n",
    "sim_data = {'Fcons_avg_vec': Fcons_avg_vec,\n",
    "            'Fcons_stderr_vec': Fcons_stderr_vec,\n",
    "            'A_avg_vec': A_avg_vec,\n",
    "            'A_stderr_vec': A_stderr_vec}"
   ]
  },
  {
   "cell_type": "code",
   "execution_count": 28,
   "id": "56f40461",
   "metadata": {},
   "outputs": [
    {
     "name": "stdout",
     "output_type": "stream",
     "text": [
      "WARNING: we are not calculating the theory values rn, using simulation as placeholder!\n"
     ]
    }
   ],
   "source": [
    "## THEORY ##\n",
    "\n",
    "imp.reload(main)\n",
    "\n",
    "Fcons_theory_vec = [[] for policy in purif_policies]\n",
    "A_theory_vec = [[] for policy in purif_policies]\n",
    "\n",
    "print('WARNING: we are not calculating the theory values rn, using simulation as placeholder!')\n",
    "\n",
    "for idx_policy, purif_policy in enumerate(purif_policies):\n",
    "    for q_purif in q_purif_vec:\n",
    "        Fcons_theory_vec[idx_policy] = Fcons_avg_vec[idx_policy]\n",
    "        A_theory_vec[idx_policy] = A_avg_vec[idx_policy]\n",
    "\n",
    "theory_data = {'Fcons_avg': Fcons_theory_vec,\n",
    "                'A': A_theory_vec}"
   ]
  },
  {
   "cell_type": "code",
   "execution_count": 29,
   "id": "d679a9eb",
   "metadata": {},
   "outputs": [
    {
     "data": {
      "image/png": "[encoded data removed]",
      "text/plain": [
       "<Figure size 432x288 with 1 Axes>"
      ]
     },
     "metadata": {
      "needs_background": "light"
     },
     "output_type": "display_data"
    }
   ],
   "source": [
    "## PLOT ##\n",
    "\n",
    "imp.reload(main)\n",
    "\n",
    "main.AFplot(policy_names, sim_data=sim_data, theory_data=theory_data, filename=None)"
   ]
  },
  {
   "cell_type": "markdown",
   "id": "4590ce7f",
   "metadata": {},
   "source": [
    "---\n",
    "### CONCLUSIONS:\n",
    " 1. From visual inspection, seems to be working. Not tested quantitatively.\n",
    "---"
   ]
  },
  {
   "cell_type": "markdown",
   "id": "a9360e7d",
   "metadata": {},
   "source": [
    "---\n",
    "---\n",
    "## Testing `single_run_1GnB()` - time evolution"
   ]
  },
  {
   "cell_type": "code",
   "execution_count": 11,
   "id": "141960b0",
   "metadata": {},
   "outputs": [],
   "source": [
    "n = 10\n",
    "\n",
    "# GEN\n",
    "p_gen = 0.5\n",
    "F_new = 0.9\n",
    "rho_new = np.diag([F_new, (1-F_new)/3, (1-F_new)/3, (1-F_new)/3])\n",
    "\n",
    "# PURIF\n",
    "q_purif_vec = np.linspace(0,1,10)\n",
    "purif_policies = [main.policy_DEJMPS, main.policy_doubleDEJMPS, main.policy_nestedDEJMPS]\n",
    "policy_names = ['DEJMPS', 'Double DEJMPS', 'Nested DEJMPS']\n",
    "pur_after_swap = False\n",
    "\n",
    "# NOISE\n",
    "Gamma = 1/50 #1/5\n",
    "\n",
    "# CONS\n",
    "p_cons = 0.3\n",
    "\n",
    "# Numerical\n",
    "t_end = int(1e4)\n",
    "randomseed = 2"
   ]
  },
  {
   "cell_type": "code",
   "execution_count": 12,
   "id": "041b8bf7",
   "metadata": {},
   "outputs": [
    {
     "data": {
      "application/vnd.jupyter.widget-view+json": {
       "model_id": "f2ee47fa6c5743c1a5a102b8a75d4665",
       "version_major": 2,
       "version_minor": 0
      },
      "text/plain": [
       "  0%|          | 0/10 [00:00<?, ?it/s]"
      ]
     },
     "metadata": {},
     "output_type": "display_data"
    },
    {
     "data": {
      "application/vnd.jupyter.widget-view+json": {
       "model_id": "2a443714d7424d708af514b3d46c9549",
       "version_major": 2,
       "version_minor": 0
      },
      "text/plain": [
       "  0%|          | 0/10 [00:00<?, ?it/s]"
      ]
     },
     "metadata": {},
     "output_type": "display_data"
    },
    {
     "data": {
      "application/vnd.jupyter.widget-view+json": {
       "model_id": "7ffe0cc99fa24cc39d3e7583ca1c5555",
       "version_major": 2,
       "version_minor": 0
      },
      "text/plain": [
       "  0%|          | 0/10 [00:00<?, ?it/s]"
      ]
     },
     "metadata": {},
     "output_type": "display_data"
    }
   ],
   "source": [
    "## SIMULATION ##\n",
    "\n",
    "imp.reload(main)\n",
    "\n",
    "Fcons_avg_vec = [[] for policy in purif_policies]\n",
    "Fcons_stderr_vec = [[] for policy in purif_policies]\n",
    "A_avg_vec = [[] for policy in purif_policies]\n",
    "A_stderr_vec = [[] for policy in purif_policies]\n",
    "\n",
    "for idx_policy, purif_policy in enumerate(purif_policies):\n",
    "    for q_purif in tqdmn(q_purif_vec):\n",
    "        F_avg,F_err,A_avg,A_err,_, _, _ = main.single_run_1GnB(n, p_gen, rho_new, q_purif, \n",
    "                                                               purif_policy, pur_after_swap, Gamma,\n",
    "                                                               p_cons, t_end, randomseed)\n",
    "        Fcons_avg_vec[idx_policy] += [F_avg]\n",
    "        Fcons_stderr_vec[idx_policy] += [F_err]\n",
    "        A_avg_vec[idx_policy] += [A_avg]\n",
    "        A_stderr_vec[idx_policy] += [A_err]\n",
    "        \n",
    "sim_data = {'Fcons_avg_vec': Fcons_avg_vec,\n",
    "            'Fcons_stderr_vec': Fcons_stderr_vec,\n",
    "            'A_avg_vec': A_avg_vec,\n",
    "            'A_stderr_vec': A_stderr_vec}"
   ]
  },
  {
   "cell_type": "code",
   "execution_count": 13,
   "id": "62f359f1",
   "metadata": {},
   "outputs": [
    {
     "name": "stdout",
     "output_type": "stream",
     "text": [
      "WARNING: we are not calculating the theory values rn, using simulation as placeholder!\n"
     ]
    }
   ],
   "source": [
    "## THEORY ##\n",
    "\n",
    "imp.reload(main)\n",
    "\n",
    "Fcons_theory_vec = [[] for policy in purif_policies]\n",
    "A_theory_vec = [[] for policy in purif_policies]\n",
    "\n",
    "print('WARNING: we are not calculating the theory values rn, using simulation as placeholder!')\n",
    "\n",
    "for idx_policy, purif_policy in enumerate(purif_policies):\n",
    "    for q_purif in q_purif_vec:\n",
    "        Fcons_theory_vec[idx_policy] = Fcons_avg_vec[idx_policy]\n",
    "        A_theory_vec[idx_policy] = A_avg_vec[idx_policy]\n",
    "\n",
    "theory_data = {'Fcons_avg': Fcons_theory_vec,\n",
    "                'A': A_theory_vec}"
   ]
  },
  {
   "cell_type": "code",
   "execution_count": 14,
   "id": "8ba35af2",
   "metadata": {},
   "outputs": [
    {
     "data": {
      "image/png": "[encoded data removed]",
      "text/plain": [
       "<Figure size 640x480 with 1 Axes>"
      ]
     },
     "metadata": {},
     "output_type": "display_data"
    }
   ],
   "source": [
    "## PLOT ##\n",
    "\n",
    "imp.reload(main)\n",
    "\n",
    "main.AFplot(policy_names, sim_data=sim_data, theory_data=theory_data, filename=None)"
   ]
  },
  {
   "cell_type": "markdown",
   "id": "91d8c5dc",
   "metadata": {},
   "source": [
    "---\n",
    "### CONCLUSIONS:\n",
    " 1. Exciting stuff! Sometimes (n=5 in the Figure) Nested DEJMPS is better than DEJMPS, as one would expect. However, Double DEJMPS (applying DEJMPS at most twice and discarding any extra new links) is even better than Nested DEJMPS. I observed this behavior for n>2 (for n=1 and n=2, Double and Nested are the same).\n",
    "This suggests that, if we want to apply a simple protocol in a nested way, we should only use a subset of the newly generated links.\n",
    " 2. In our previous paper, we showed that there is an upper bound to the fidelity that can be achieved by using 2-to-1 bilocal Clifford protocols in a nested way (including DEJMPS). The probability of success of each round of the nested scheme does not go to 1 (since it is only 1 when the output fidelity is 1), and therefore the total probability of success of a nested scheme goes to zero as $n\\rightarrow\\infty$. This informal argument means that nesting with an increasing number of bad memories $n$ would provide diminishing returns in the avg. consumed fidelity (which should converge to the upper bound as $n\\rightarrow\\infty$), but it would have a strong impact in the availability, since it would drastically decrease the overall probability of success. This hints that there must be a finite optimal number of purification rounds, i.e., in general we should only use a subset of the newly generated links for nested purification. In the previous examples, this optimal number seems to be 2.\n",
    " 3. One of the main arguments against nested purification is the time it takes, since purification rounds may need to be performed sequentially. In our setup, we assume purification is instantaneous, and even with that assumption nesting as much as possible is not always a good idea, as discussed in the previous points.\n",
    "---"
   ]
  },
  {
   "cell_type": "code",
   "execution_count": null,
   "id": "1756f73c",
   "metadata": {},
   "outputs": [],
   "source": []
  },
  {
   "cell_type": "code",
   "execution_count": null,
   "id": "b18ff146",
   "metadata": {},
   "outputs": [],
   "source": []
  },
  {
   "cell_type": "code",
   "execution_count": null,
   "id": "8a9c7299",
   "metadata": {},
   "outputs": [],
   "source": []
  },
  {
   "cell_type": "code",
   "execution_count": null,
   "id": "e67cf1d3",
   "metadata": {},
   "outputs": [],
   "source": []
  },
  {
   "cell_type": "code",
   "execution_count": null,
   "id": "3cb1e6da",
   "metadata": {},
   "outputs": [],
   "source": []
  },
  {
   "cell_type": "code",
   "execution_count": null,
   "id": "d62efcf0",
   "metadata": {},
   "outputs": [],
   "source": []
  },
  {
   "cell_type": "code",
   "execution_count": null,
   "id": "3b421056",
   "metadata": {},
   "outputs": [],
   "source": []
  },
  {
   "cell_type": "code",
   "execution_count": null,
   "id": "df4a0fa1",
   "metadata": {},
   "outputs": [],
   "source": []
  },
  {
   "cell_type": "code",
   "execution_count": null,
   "id": "15622ef7",
   "metadata": {},
   "outputs": [],
   "source": []
  }
 ],
 "metadata": {
  "kernelspec": {
   "display_name": "Python 3 (ipykernel)",
   "language": "python",
   "name": "python3"
  },
  "language_info": {
   "codemirror_mode": {
    "name": "ipython",
    "version": 3
   },
   "file_extension": ".py",
   "mimetype": "text/x-python",
   "name": "python",
   "nbconvert_exporter": "python",
   "pygments_lexer": "ipython3",
   "version": "3.10.9"
  }
 },
 "nbformat": 4,
 "nbformat_minor": 5
}
