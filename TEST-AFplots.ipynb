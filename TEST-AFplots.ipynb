{
 "cells": [
  {
   "cell_type": "markdown",
   "id": "7a11a714",
   "metadata": {},
   "source": [
    "# Testing A-F plots"
   ]
  },
  {
   "cell_type": "code",
   "execution_count": 1,
   "id": "62c9b13a",
   "metadata": {},
   "outputs": [],
   "source": [
    "import numpy as np\n",
    "import math\n",
    "import importlib as imp\n",
    "import matplotlib.pyplot as plt\n",
    "from tqdm.notebook import tqdm as tqdmn\n",
    "\n",
    "import main_1GnB as main"
   ]
  },
  {
   "cell_type": "markdown",
   "id": "5490b163",
   "metadata": {},
   "source": [
    "---\n",
    "---\n",
    "## Testing `single_run_1GnB()` - time evolution"
   ]
  },
  {
   "cell_type": "code",
   "execution_count": 22,
   "id": "c113d09e",
   "metadata": {},
   "outputs": [],
   "source": [
    "n = 2\n",
    "\n",
    "# GEN\n",
    "p_gen = 0.5\n",
    "F_new = 0.9\n",
    "rho_new = np.diag([F_new, (1-F_new)/3, (1-F_new)/3, (1-F_new)/3])\n",
    "\n",
    "# PURIF\n",
    "q_purif_vec = np.linspace(0,1,5)\n",
    "purif_policies = [main.policy_identity, main.policy_DEJMPS]\n",
    "policy_names = ['Identity', 'DEJMPS']\n",
    "pur_after_swap = False\n",
    "\n",
    "# NOISE\n",
    "Gamma = 1/5\n",
    "\n",
    "# CONS\n",
    "p_cons = 0.3\n",
    "\n",
    "# Numerical\n",
    "t_end = int(1e5)\n",
    "randomseed = 2"
   ]
  },
  {
   "cell_type": "code",
   "execution_count": 23,
   "id": "f4deed77",
   "metadata": {},
   "outputs": [],
   "source": [
    "## SIMULATION ##\n",
    "\n",
    "imp.reload(main)\n",
    "\n",
    "Fcons_avg_vec = [[] for policy in purif_policies]\n",
    "Fcons_stderr_vec = [[] for policy in purif_policies]\n",
    "A_avg_vec = [[] for policy in purif_policies]\n",
    "A_stderr_vec = [[] for policy in purif_policies]\n",
    "\n",
    "for idx_policy, purif_policy in enumerate(purif_policies):\n",
    "    for q_purif in tqdmn(q_purif_vec):\n",
    "        F_avg,F_err,A_avg,A_err,_, _, _ = main.single_run_1GnB(n, p_gen, rho_new, q_purif, \n",
    "                                                               purif_policy, pur_after_swap, Gamma,\n",
    "                                                               p_cons, t_end, randomseed)\n",
    "        Fcons_avg_vec[idx_policy] += [F_avg]\n",
    "        Fcons_stderr_vec[idx_policy] += [F_err]\n",
    "        A_avg_vec[idx_policy] += [A_avg]\n",
    "        A_stderr_vec[idx_policy] += [A_err]\n",
    "        \n",
    "sim_data = {'Fcons_avg_vec': Fcons_avg_vec,\n",
    "            'Fcons_stderr_vec': Fcons_stderr_vec,\n",
    "            'A_avg_vec': A_avg_vec,\n",
    "            'A_stderr_vec': A_stderr_vec}"
   ]
  },
  {
   "cell_type": "code",
   "execution_count": 31,
   "id": "89704d70",
   "metadata": {},
   "outputs": [
    {
     "name": "stdout",
     "output_type": "stream",
     "text": [
      "WARNING: we are not calculating the theory values rn, using simulation as placeholder!\n"
     ]
    }
   ],
   "source": [
    "## THEORY ##\n",
    "\n",
    "imp.reload(main)\n",
    "\n",
    "Fcons_theory_vec = [[] for policy in purif_policies]\n",
    "A_theory_vec = [[] for policy in purif_policies]\n",
    "\n",
    "print('WARNING: we are not calculating the theory values rn, using simulation as placeholder!')\n",
    "\n",
    "for idx_policy, purif_policy in enumerate(purif_policies):\n",
    "    for q_purif in q_purif_vec:\n",
    "        Fcons_theory_vec[idx_policy] = Fcons_avg_vec[idx_policy]\n",
    "        A_theory_vec[idx_policy] = A_avg_vec[idx_policy]\n",
    "\n",
    "theory_data = {'Fcons_avg': Fcons_theory_vec,\n",
    "                'A': A_theory_vec}"
   ]
  },
  {
   "cell_type": "code",
   "execution_count": 47,
   "id": "89b46452",
   "metadata": {},
   "outputs": [],
   "source": [
    "def AFplot(policy_names, sim_data=None, theory_data=None, filename=None):\n",
    "    fig, ax = plt.subplots()\n",
    "    colors = ['tab:blue', 'tab:orange', 'tab:purple']\n",
    "    markers = ['^','v','o','s']\n",
    "\n",
    "    if sim_data:\n",
    "        for idx_policy, policy in enumerate(policy_names):\n",
    "            plt.errorbar(sim_data['A_avg_vec'][idx_policy], sim_data['Fcons_avg_vec'][idx_policy],\n",
    "                         xerr=sim_data['A_stderr_vec'][idx_policy],\n",
    "                         yerr=sim_data['Fcons_stderr_vec'][idx_policy],\n",
    "                         marker=markers[idx_policy], color=colors[idx_policy],\n",
    "                         linestyle=':', capsize=3, label=policy+' (sim.)')\n",
    "    \n",
    "    if theory_data:\n",
    "        for idx_policy, policy in enumerate(policy_names):\n",
    "            plt.plot(theory_data['A'][idx_policy], theory_data['Fcons_avg'][idx_policy],\n",
    "                         color=colors[idx_policy], linestyle='-', label=policy+' (theory)')\n",
    "        \n",
    "    \n",
    "    # Plot specs\n",
    "    plt.legend()\n",
    "    plt.xlabel(r'Availability')\n",
    "    plt.ylabel(r'Avg. consumed fidelity')\n",
    "    plt.xlim(0.6,0.75)\n",
    "    plt.ylim(0.6,0.9)\n",
    "    \n",
    "    if filename:\n",
    "        print('Save not implemented')\n",
    "    return"
   ]
  },
  {
   "cell_type": "code",
   "execution_count": 48,
   "id": "727d624b",
   "metadata": {},
   "outputs": [
    {
     "data": {
      "image/png": "[encoded data removed]",
      "text/plain": [
       "<Figure size 432x288 with 1 Axes>"
      ]
     },
     "metadata": {
      "needs_background": "light"
     },
     "output_type": "display_data"
    }
   ],
   "source": [
    "## PLOT ##\n",
    "\n",
    "AFplot(policy_names, sim_data=sim_data, theory_data=theory_data, filename=None)"
   ]
  },
  {
   "cell_type": "markdown",
   "id": "4590ce7f",
   "metadata": {},
   "source": [
    "---\n",
    "### CONCLUSIONS:\n",
    " 1. From visual inspection, seems to be working. Not tested quantitatively.\n",
    "---"
   ]
  },
  {
   "cell_type": "code",
   "execution_count": null,
   "id": "1756f73c",
   "metadata": {},
   "outputs": [],
   "source": []
  },
  {
   "cell_type": "code",
   "execution_count": null,
   "id": "b18ff146",
   "metadata": {},
   "outputs": [],
   "source": []
  },
  {
   "cell_type": "code",
   "execution_count": null,
   "id": "8a9c7299",
   "metadata": {},
   "outputs": [],
   "source": []
  },
  {
   "cell_type": "code",
   "execution_count": null,
   "id": "e67cf1d3",
   "metadata": {},
   "outputs": [],
   "source": []
  },
  {
   "cell_type": "code",
   "execution_count": null,
   "id": "3cb1e6da",
   "metadata": {},
   "outputs": [],
   "source": []
  },
  {
   "cell_type": "code",
   "execution_count": null,
   "id": "d62efcf0",
   "metadata": {},
   "outputs": [],
   "source": []
  },
  {
   "cell_type": "code",
   "execution_count": null,
   "id": "3b421056",
   "metadata": {},
   "outputs": [],
   "source": []
  },
  {
   "cell_type": "code",
   "execution_count": null,
   "id": "df4a0fa1",
   "metadata": {},
   "outputs": [],
   "source": []
  },
  {
   "cell_type": "code",
   "execution_count": null,
   "id": "15622ef7",
   "metadata": {},
   "outputs": [],
   "source": []
  }
 ],
 "metadata": {
  "kernelspec": {
   "display_name": "Python 3",
   "language": "python",
   "name": "python3"
  },
  "language_info": {
   "codemirror_mode": {
    "name": "ipython",
    "version": 3
   },
   "file_extension": ".py",
   "mimetype": "text/x-python",
   "name": "python",
   "nbconvert_exporter": "python",
   "pygments_lexer": "ipython3",
   "version": "3.8.8"
  }
 },
 "nbformat": 4,
 "nbformat_minor": 5
}
