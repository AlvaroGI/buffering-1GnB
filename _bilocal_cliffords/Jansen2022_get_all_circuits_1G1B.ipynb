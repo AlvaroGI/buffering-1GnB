{
 "cells": [
  {
   "cell_type": "markdown",
   "metadata": {},
   "source": [
    "# Find all 2-to-1 purification protocols in 1G1B"
   ]
  },
  {
   "cell_type": "markdown",
   "metadata": {},
   "source": [
    "Here, we find the output fidelity and success probability of every bilocal Clifford protocols for 2-to-1 purification using two diagonal Bell states as input."
   ]
  },
  {
   "cell_type": "code",
   "execution_count": 34,
   "metadata": {},
   "outputs": [],
   "source": [
    "import numpy as np\n",
    "import itertools as it\n",
    "import matplotlib.pyplot as plt\n",
    "from scipy.io import savemat"
   ]
  },
  {
   "cell_type": "markdown",
   "metadata": {},
   "source": [
    "## Functions"
   ]
  },
  {
   "cell_type": "code",
   "execution_count": 35,
   "metadata": {},
   "outputs": [],
   "source": [
    "def base(M, n):\n",
    "    # calculate the image of the base under a matrix M\n",
    "    \n",
    "    # make a set of all combinations of the first column and the last n columns (these correspond to X_1, Z_1,...,Z_n)\n",
    "    s = []\n",
    "    for i in range(n+1, 2*n):\n",
    "        s.append(M[0:2*n, i])\n",
    "    powerset = it.chain.from_iterable(it.combinations(s, r) for r in range(1, len(s)+1))\n",
    "    \n",
    "    res = [vector(GF(2),2*n)]\n",
    "        \n",
    "    for i in powerset:\n",
    "        v = vector(sum(i))     # calculate the sum of the elements of each combination (e.g IZZ = IZI + IIZ)\n",
    "        res.append(v)\n",
    "        \n",
    "    return res"
   ]
  },
  {
   "cell_type": "code",
   "execution_count": 36,
   "metadata": {},
   "outputs": [],
   "source": [
    "def pillars(M, n):\n",
    "    # calculate the image of the pillars under a matrix M\n",
    "    \n",
    "    X1 = vector(M[0:2*n, 0])\n",
    "    Z1 = vector(M[0:2*n, n])\n",
    "    Y1 = X1 + Z1\n",
    "    \n",
    "    pI = base(M, n)\n",
    "    pX = [(X1 + b) for b in pI]\n",
    "    pY = [(Y1 + b) for b in pI]\n",
    "    pZ = [(Z1 + b) for b in pI]\n",
    "    \n",
    "    return [pI, pX, pY, pZ]   "
   ]
  },
  {
   "cell_type": "code",
   "execution_count": 37,
   "metadata": {},
   "outputs": [],
   "source": [
    "def tensor(A, n):\n",
    "    # calculate the n fold tensor product of a matrix A\n",
    "    \n",
    "    kron = A\n",
    "    count = 1\n",
    "    while count < n:\n",
    "        kron = np.kron(kron,A)\n",
    "        count = count + 1\n",
    "        \n",
    "    if n == 2:\n",
    "        res = np.reshape(kron, (4,4))\n",
    "    elif n == 3:\n",
    "        res = np.reshape(kron, (4,4,4)) \n",
    "    elif n == 4:\n",
    "        res = np.reshape(kron, (4,4,4,4)) \n",
    "    elif n == 5:\n",
    "        res = np.reshape(kron, (4,4,4,4,4)) \n",
    "        \n",
    "    return res"
   ]
  },
  {
   "cell_type": "code",
   "execution_count": 38,
   "metadata": {},
   "outputs": [],
   "source": [
    "def dist_stat(initial, M, n):\n",
    "    # returns the success probability and the fidelity of an n-to-1 protocol M applied to an initial state\n",
    "    pil = pillars(M, n)\n",
    "    out = []\n",
    "    for layer in pil:   \n",
    "        coef = 0\n",
    "        for elt in layer:\n",
    "            if n == 2:\n",
    "                coef = coef + initial[int(elt[0]) + 2*int(elt[n]), int(elt[1]) + 2*int(elt[n+1])]\n",
    "            if n == 3:\n",
    "                coef = coef + initial[int(elt[0]) + 2*int(elt[n]), int(elt[1]) + 2*int(elt[n+1]), \\\n",
    "                                   int(elt[2]) + 2*int(elt[n+2])]\n",
    "            if n == 4:\n",
    "                coef = coef + initial[int(elt[0]) + 2*int(elt[n]), int(elt[1]) + 2*int(elt[n+1]), \\\n",
    "                                   int(elt[2]) + 2*int(elt[n+2]), int(elt[3]) + 2*int(elt[n+3])]\n",
    "            if n == 5:\n",
    "                coef = coef + initial[int(elt[0]) + 2*int(elt[n]), int(elt[1]) + 2*int(elt[n+1]), \\\n",
    "                                   int(elt[2]) + 2*int(elt[n+2]), int(elt[3]) + 2*int(elt[n+3]), \\\n",
    "                                    int(elt[4]) + 2*int(elt[n+4])]\n",
    "        out.append(coef)\n",
    "    sp = sum(out)\n",
    "    fid = out[0]/sp\n",
    "\n",
    "    return round(sp,10), round(fid,10)"
   ]
  },
  {
   "cell_type": "code",
   "execution_count": 39,
   "metadata": {},
   "outputs": [],
   "source": [
    "def sucprob_fid_lists(initial, transversal_inv, n):\n",
    "    # calculate the possible distillation statistics (success probability & fidelity) of the protocols in a transversal\n",
    "    # applied to an initial state\n",
    "          \n",
    "    fid = []\n",
    "    sp = []\n",
    "    fslist = set()\n",
    "    for key, M in transversal_inv.items():\n",
    "        s, f = dist_stat(initial, M, n)\n",
    "        if (s,f) not in fslist:\n",
    "            sp.append(s)\n",
    "            fid.append(f)\n",
    "            fslist.add((s,f))\n",
    "\n",
    "    return sp, fid"
   ]
  },
  {
   "cell_type": "markdown",
   "metadata": {},
   "source": [
    "## Inputs"
   ]
  },
  {
   "cell_type": "code",
   "execution_count": 40,
   "metadata": {},
   "outputs": [],
   "source": [
    "m = 2 # Number of qubits\n",
    "F_min = 0.25 # Minimum fidelity for any memory\n",
    "F_max = 1 # Maximum fidelity for any memory\n",
    "dF = 0.01 # Step size in fidelity calculation"
   ]
  },
  {
   "cell_type": "markdown",
   "metadata": {},
   "source": [
    "## Calculations"
   ]
  },
  {
   "cell_type": "code",
   "execution_count": 41,
   "metadata": {},
   "outputs": [],
   "source": [
    "# Load transversal\n",
    "transversal_inv = load('2_transversal_inv.sobj')"
   ]
  },
  {
   "cell_type": "code",
   "execution_count": 42,
   "metadata": {},
   "outputs": [],
   "source": [
    "## If we want a state in Bell diagonal basis we do it like this:\n",
    "# F = 0.75\n",
    "# g1 = 0.15\n",
    "# g2 = 0.1\n",
    "# g3 = 1 - F - g1 - g2\n",
    "# assert g3>=0\n",
    "# state = np.diag([F,g1,g2,g3])"
   ]
  },
  {
   "cell_type": "code",
   "execution_count": 18,
   "metadata": {
    "scrolled": true
   },
   "outputs": [],
   "source": [
    "# WERNER STATE\n",
    "\n",
    "data = dict()\n",
    "\n",
    "for F_good in np.arange(F_min,F_max+dF/2,dF):\n",
    "    F_good = round(F_good,2)\n",
    "    for F_bad in np.arange(F_min,F_max+dF/2,dF):\n",
    "        # No need to loop over all possible F_bad due to symmetry\n",
    "        # in the inputs to the purification circuit\n",
    "        F_bad = round(F_bad,2)\n",
    "\n",
    "        # Good memory with Werner state\n",
    "        g = (1-F_good)/3\n",
    "        assert g>=0\n",
    "        good_state = np.diag([F_good,g,g,g])\n",
    "\n",
    "        # Bad memory with Werner state\n",
    "        b = (1-F_bad)/3\n",
    "        assert b>=0\n",
    "        bad_state = np.diag([F_bad,b,b,b])\n",
    "        \n",
    "        # Tensor product\n",
    "        init = np.matmul(bad_state,good_state) # Diagonal entries\n",
    "        for i in range(len(init)):\n",
    "            for j in range(len(init)):\n",
    "                init[i][j] = good_state[i][i] * bad_state[j][j]\n",
    "                \n",
    "        # Solve\n",
    "        probs, fids = sucprob_fid_lists(init, transversal_inv, m)\n",
    "\n",
    "        # Save\n",
    "        fid_bad = '%.3f'%(F_bad/10)\n",
    "        fid_good = '%.3f'%(F_good/10)\n",
    "        variable_name = 'protocols_F%s_F%s'%(fid_bad[2:],fid_good[2:])\n",
    "        data[variable_name] = np.array([probs, fids])\n",
    "\n",
    "savemat(\"data_protocols_Werner.mat\", data)"
   ]
  },
  {
   "cell_type": "code",
   "execution_count": 19,
   "metadata": {
    "scrolled": true
   },
   "outputs": [],
   "source": [
    "# 3-2-1 BELL DIAGONAL STATE\n",
    "\n",
    "data = dict()\n",
    "\n",
    "for F_good in np.arange(F_min,F_max+dF/2,dF):\n",
    "    F_good = round(F_good,2)\n",
    "    for F_bad in np.arange(F_min,F_max+dF/2,dF):\n",
    "        # No need to loop over all possible F_bad due to symmetry\n",
    "        # in the inputs to the purification circuit\n",
    "        F_bad = round(F_bad,2)\n",
    "\n",
    "        # Good memory with Bell diagonal state\n",
    "        g1 = 3*(1-F_good)/6\n",
    "        g2 = 2*(1-F_good)/6\n",
    "        g3 = 1-F_good-g1-g2\n",
    "        assert g3>=0\n",
    "        good_state = np.diag([F_good,g1,g2,g3])\n",
    "\n",
    "        # Bad memory with Bell diagonal state\n",
    "        b1 = 3*(1-F_bad)/6\n",
    "        b2 = 2*(1-F_bad)/6\n",
    "        b3 = 1-F_bad-b1-b2\n",
    "        assert b3>=0\n",
    "        bad_state = np.diag([F_bad,b1,b2,b3])\n",
    "        \n",
    "        # Tensor product\n",
    "        init = np.matmul(bad_state,good_state) # Diagonal entries\n",
    "        for i in range(len(init)):\n",
    "            for j in range(len(init)):\n",
    "                init[i][j] = good_state[i][i] * bad_state[j][j]\n",
    "                \n",
    "        # Solve\n",
    "        probs, fids = sucprob_fid_lists(init, transversal_inv, m)\n",
    "\n",
    "        # Save\n",
    "        fid_bad = '%.3f'%(F_bad/10)\n",
    "        fid_good = '%.3f'%(F_good/10)\n",
    "        variable_name = 'protocols_F%s_F%s'%(fid_bad[2:],fid_good[2:])\n",
    "        data[variable_name] = np.array([probs, fids])\n",
    "\n",
    "savemat(\"data_protocols_321.mat\", data)"
   ]
  },
  {
   "cell_type": "code",
   "execution_count": 33,
   "metadata": {
    "scrolled": true
   },
   "outputs": [],
   "source": [
    "# WERNER AND R-STATE\n",
    "\n",
    "data = dict()\n",
    "\n",
    "for F_good in np.arange(F_min,F_max+dF/2,dF):\n",
    "    F_good = round(F_good,2)\n",
    "    for F_bad in np.arange(F_min,F_max+dF/2,dF):\n",
    "        # No need to loop over all possible F_bad due to symmetry\n",
    "        # in the inputs to the purification circuit\n",
    "        F_bad = round(F_bad,2)\n",
    "\n",
    "        # Good memory with Werner state\n",
    "        g = (1-F_good)/3\n",
    "        assert g>=0\n",
    "        good_state = np.diag([F_good,g,g,g])\n",
    "\n",
    "        # Bad memory with (twirled) R-state\n",
    "        b1 = (1-F_bad)/2\n",
    "        b2 = (1-F_bad)/2\n",
    "        b3 = 0\n",
    "        assert b3>=0\n",
    "        bad_state = np.diag([F_bad,b1,b2,b3])\n",
    "        \n",
    "        # Tensor product\n",
    "        init = np.matmul(bad_state,good_state) # Diagonal entries\n",
    "        for i in range(len(init)):\n",
    "            for j in range(len(init)):\n",
    "                init[i][j] = good_state[i][i] * bad_state[j][j]\n",
    "                \n",
    "        # Solve\n",
    "        probs, fids = sucprob_fid_lists(init, transversal_inv, m)\n",
    "\n",
    "        # Save\n",
    "        fid_bad = '%.3f'%(F_bad/10)\n",
    "        fid_good = '%.3f'%(F_good/10)\n",
    "        variable_name = 'protocols_F%s_F%s'%(fid_bad[2:],fid_good[2:])\n",
    "        data[variable_name] = np.array([probs, fids])\n",
    "\n",
    "savemat(\"data_protocols_WernerR.mat\", data)"
   ]
  },
  {
   "cell_type": "code",
   "execution_count": 43,
   "metadata": {},
   "outputs": [],
   "source": [
    "# BELL DIAGONAL EXAMPLE\n",
    "\n",
    "data = dict()\n",
    "\n",
    "for F_good in np.arange(F_min,F_max+dF/2,dF):\n",
    "    F_good = round(F_good,2)\n",
    "    for F_bad in np.arange(F_min,F_max+dF/2,dF):\n",
    "        # No need to loop over all possible F_bad due to symmetry\n",
    "        # in the inputs to the purification circuit\n",
    "        F_bad = round(F_bad,2)\n",
    "\n",
    "        # Good memory\n",
    "        good_state = np.diag([F_good,0,0,1-F_good])\n",
    "\n",
    "        # Bad memory\n",
    "        bad_state = np.diag([F_bad,0,0,1-F_bad])\n",
    "        \n",
    "        # Tensor product\n",
    "        init = np.matmul(bad_state,good_state) # Diagonal entries\n",
    "        for i in range(len(init)):\n",
    "            for j in range(len(init)):\n",
    "                init[i][j] = good_state[i][i] * bad_state[j][j]\n",
    "                \n",
    "        # Solve\n",
    "        probs, fids = sucprob_fid_lists(init, transversal_inv, m)\n",
    "\n",
    "        # Save\n",
    "        fid_bad = '%.3f'%(F_bad/10)\n",
    "        fid_good = '%.3f'%(F_good/10)\n",
    "        variable_name = 'protocols_F%s_F%s'%(fid_bad[2:],fid_good[2:])\n",
    "        data[variable_name] = np.array([probs, fids])\n",
    "\n",
    "savemat(\"data_protocols_example.mat\", data)"
   ]
  }
 ],
 "metadata": {
  "kernelspec": {
   "display_name": "SageMath 10.1",
   "language": "sage",
   "name": "sagemath-purification"
  },
  "language_info": {
   "codemirror_mode": {
    "name": "ipython",
    "version": 3
   },
   "file_extension": ".py",
   "mimetype": "text/x-python",
   "name": "python",
   "nbconvert_exporter": "python",
   "pygments_lexer": "ipython3",
   "version": "3.11.1"
  }
 },
 "nbformat": 4,
 "nbformat_minor": 2
}
