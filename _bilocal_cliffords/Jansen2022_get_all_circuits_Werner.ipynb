{
 "cells": [
  {
   "cell_type": "markdown",
   "metadata": {},
   "source": [
    "# Find all m-to-1 purification protocols (input: identical Werner states)"
   ]
  },
  {
   "cell_type": "markdown",
   "metadata": {},
   "source": [
    "Here, we find the output fidelity and success probability of every bilocal Clifford protocols for 2-to-1 purification using two diagonal Bell states as input."
   ]
  },
  {
   "cell_type": "code",
   "execution_count": 96,
   "metadata": {},
   "outputs": [],
   "source": [
    "import numpy as np\n",
    "import itertools as it\n",
    "import matplotlib.pyplot as plt\n",
    "from scipy.io import savemat\n",
    "\n",
    "from tqdm.notebook import tqdm as tqdmn"
   ]
  },
  {
   "cell_type": "markdown",
   "metadata": {},
   "source": [
    "## Functions"
   ]
  },
  {
   "cell_type": "code",
   "execution_count": 2,
   "metadata": {},
   "outputs": [],
   "source": [
    "def base(M, n):\n",
    "    # calculate the image of the base under a matrix M\n",
    "    \n",
    "    # make a set of all combinations of the first column and the last n columns (these correspond to X_1, Z_1,...,Z_n)\n",
    "    s = []\n",
    "    for i in range(n+1, 2*n):\n",
    "        s.append(M[0:2*n, i])\n",
    "    powerset = it.chain.from_iterable(it.combinations(s, r) for r in range(1, len(s)+1))\n",
    "    \n",
    "    res = [vector(GF(2),2*n)]\n",
    "        \n",
    "    for i in powerset:\n",
    "        v = vector(sum(i))     # calculate the sum of the elements of each combination (e.g IZZ = IZI + IIZ)\n",
    "        res.append(v)\n",
    "        \n",
    "    return res"
   ]
  },
  {
   "cell_type": "code",
   "execution_count": 3,
   "metadata": {},
   "outputs": [],
   "source": [
    "def pillars(M, n):\n",
    "    # calculate the image of the pillars under a matrix M\n",
    "    \n",
    "    X1 = vector(M[0:2*n, 0])\n",
    "    Z1 = vector(M[0:2*n, n])\n",
    "    Y1 = X1 + Z1\n",
    "    \n",
    "    pI = base(M, n)\n",
    "    pX = [(X1 + b) for b in pI]\n",
    "    pY = [(Y1 + b) for b in pI]\n",
    "    pZ = [(Z1 + b) for b in pI]\n",
    "    \n",
    "    return [pI, pX, pY, pZ]   "
   ]
  },
  {
   "cell_type": "code",
   "execution_count": 78,
   "metadata": {},
   "outputs": [],
   "source": [
    "def tensor(A, n):\n",
    "    # calculate the n fold tensor product of a matrix A\n",
    "    \n",
    "#    kron = A\n",
    "#    count = 1\n",
    "#    while count < n:\n",
    "#        kron = np.kron(kron,A)\n",
    "#        count = count + 1\n",
    "#    if n == 2:\n",
    "#        res = np.reshape(kron, (4,4))\n",
    "#    elif n == 3:\n",
    "#        res = np.reshape(kron, (4,4,4))\n",
    "#    elif n == 4:\n",
    "#        res = np.reshape(kron, (4,4,4,4))\n",
    "#    elif n == 5:\n",
    "#        res = np.reshape(kron, (4,4,4,4,4))\n",
    "#    return res\n",
    "    state = A\n",
    "    for _ in range(n-1):\n",
    "        state = np.kron(state,A)\n",
    "    state = np.reshape(state, tuple([4 for _ in range(m)]))\n",
    "    return state"
   ]
  },
  {
   "cell_type": "code",
   "execution_count": 79,
   "metadata": {},
   "outputs": [],
   "source": [
    "def dist_stat(initial, M, n):\n",
    "    # returns the success probability and the fidelity of an n-to-1 protocol M applied to an initial state\n",
    "    pil = pillars(M, n)\n",
    "    out = []\n",
    "    for layer in pil:   \n",
    "        coef = 0\n",
    "        for elt in layer:\n",
    "            if n == 2:\n",
    "                coef = coef + initial[int(elt[0]) + 2*int(elt[n]), int(elt[1]) + 2*int(elt[n+1])]\n",
    "            if n == 3:\n",
    "                coef = coef + initial[int(elt[0]) + 2*int(elt[n]), int(elt[1]) + 2*int(elt[n+1]), \\\n",
    "                                   int(elt[2]) + 2*int(elt[n+2])]\n",
    "            if n == 4:\n",
    "                coef = coef + initial[int(elt[0]) + 2*int(elt[n]), int(elt[1]) + 2*int(elt[n+1]), \\\n",
    "                                   int(elt[2]) + 2*int(elt[n+2]), int(elt[3]) + 2*int(elt[n+3])]\n",
    "            if n == 5:\n",
    "                coef = coef + initial[int(elt[0]) + 2*int(elt[n]), int(elt[1]) + 2*int(elt[n+1]), \\\n",
    "                                   int(elt[2]) + 2*int(elt[n+2]), int(elt[3]) + 2*int(elt[n+3]), \\\n",
    "                                    int(elt[4]) + 2*int(elt[n+4])]\n",
    "        out.append(coef)\n",
    "    sp = sum(out)\n",
    "    fid = out[0]/sp\n",
    "\n",
    "    return round(sp,10), round(fid,10)"
   ]
  },
  {
   "cell_type": "code",
   "execution_count": 80,
   "metadata": {},
   "outputs": [],
   "source": [
    "def sucprob_fid_lists(initial, transversal_inv, n):\n",
    "    # calculate the possible distillation statistics (success probability & fidelity) of the protocols in a transversal\n",
    "    # applied to an initial state\n",
    "          \n",
    "    fid = []\n",
    "    sp = []\n",
    "    fslist = set()\n",
    "    for key, M in transversal_inv.items():\n",
    "        s, f = dist_stat(initial, M, n)\n",
    "        if (s,f) not in fslist:\n",
    "            sp.append(s)\n",
    "            fid.append(f)\n",
    "            fslist.add((s,f))\n",
    "\n",
    "    return sp, fid"
   ]
  },
  {
   "cell_type": "markdown",
   "metadata": {},
   "source": [
    "## Inputs"
   ]
  },
  {
   "cell_type": "code",
   "execution_count": 102,
   "metadata": {},
   "outputs": [],
   "source": [
    "m = 4 # Number of qubits\n",
    "F_min = 0.25 # Minimum fidelity for any memory\n",
    "F_max = 1 # Maximum fidelity for any memory\n",
    "dF = 0.1 # Step size in fidelity calculation"
   ]
  },
  {
   "cell_type": "markdown",
   "metadata": {},
   "source": [
    "## Calculations"
   ]
  },
  {
   "cell_type": "code",
   "execution_count": 103,
   "metadata": {},
   "outputs": [],
   "source": [
    "# Load transversal\n",
    "transversal_inv = load('%d_transversal_inv.sobj'%m)"
   ]
  },
  {
   "cell_type": "code",
   "execution_count": 97,
   "metadata": {},
   "outputs": [
    {
     "data": {
      "application/vnd.jupyter.widget-view+json": {
       "model_id": "2c4ec25723084409877f282eed015974",
       "version_major": 2,
       "version_minor": 0
      },
      "text/plain": [
       "  0%|          | 0/8 [00:00<?, ?it/s]"
      ]
     },
     "metadata": {},
     "output_type": "display_data"
    }
   ],
   "source": [
    "# INPUT: IDENTICAL WERNER STATES\n",
    "\n",
    "data = dict()\n",
    "\n",
    "for F in tqdmn(np.arange(F_min,F_max+dF/2,dF)):\n",
    "    F = round(F,2)\n",
    "\n",
    "    # Werner state\n",
    "    Werner_state = vector([F,(1-F)/3,(1-F)/3,(1-F)/3])\n",
    "        \n",
    "    # Tensor product\n",
    "    init = tensor(Werner_state,m)\n",
    "\n",
    "    # Solve\n",
    "    probs, fids = sucprob_fid_lists(init, transversal_inv, m)\n",
    "\n",
    "    # Save\n",
    "    data[F] = {}\n",
    "    data[F]['p'] = probs\n",
    "    data[F]['F_out'] = fids"
   ]
  },
  {
   "cell_type": "code",
   "execution_count": 98,
   "metadata": {},
   "outputs": [
    {
     "data": {
      "image/png": "[encoded data removed]",
      "text/plain": [
       "<Figure size 640x480 with 1 Axes>"
      ]
     },
     "metadata": {},
     "output_type": "display_data"
    }
   ],
   "source": [
    "for F in data.keys():\n",
    "    plt.scatter([F for _ in data[F]['p']], data[F]['p'], color='k')"
   ]
  },
  {
   "cell_type": "code",
   "execution_count": null,
   "metadata": {},
   "outputs": [],
   "source": []
  },
  {
   "cell_type": "code",
   "execution_count": null,
   "metadata": {},
   "outputs": [],
   "source": []
  },
  {
   "cell_type": "code",
   "execution_count": null,
   "metadata": {},
   "outputs": [],
   "source": []
  },
  {
   "cell_type": "code",
   "execution_count": null,
   "metadata": {},
   "outputs": [],
   "source": []
  }
 ],
 "metadata": {
  "kernelspec": {
   "display_name": "SageMath 10.1",
   "language": "sage",
   "name": "sagemath-purification"
  },
  "language_info": {
   "codemirror_mode": {
    "name": "ipython",
    "version": 3
   },
   "file_extension": ".py",
   "mimetype": "text/x-python",
   "name": "python",
   "nbconvert_exporter": "python",
   "pygments_lexer": "ipython3",
   "version": "3.11.1"
  }
 },
 "nbformat": 4,
 "nbformat_minor": 2
}
