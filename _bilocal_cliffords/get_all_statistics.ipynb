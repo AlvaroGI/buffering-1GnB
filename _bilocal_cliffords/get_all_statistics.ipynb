{
 "cells": [
  {
   "cell_type": "markdown",
   "metadata": {},
   "source": [
    "# Find all possible output states (fidelity and Bell-diagonal elements) from a purification protocol"
   ]
  },
  {
   "cell_type": "code",
   "execution_count": 1,
   "metadata": {},
   "outputs": [],
   "source": [
    "import numpy as np\n",
    "import itertools as it\n",
    "import matplotlib.pyplot as plt\n",
    "from scipy.io import savemat"
   ]
  },
  {
   "cell_type": "markdown",
   "metadata": {},
   "source": [
    "## Functions"
   ]
  },
  {
   "cell_type": "code",
   "execution_count": 2,
   "metadata": {},
   "outputs": [],
   "source": [
    "def base(M, n):\n",
    "    # calculate the image of the base under a matrix M\n",
    "    \n",
    "    # make a set of all combinations of the first column and the last n columns (these correspond to X_1, Z_1,...,Z_n)\n",
    "    s = []\n",
    "    for i in range(n+1, 2*n):\n",
    "        s.append(M[0:2*n, i])\n",
    "    powerset = it.chain.from_iterable(it.combinations(s, r) for r in range(1, len(s)+1))\n",
    "    \n",
    "    res = [vector(GF(2),2*n)]\n",
    "        \n",
    "    for i in powerset:\n",
    "        v = vector(sum(i))     # calculate the sum of the elements of each combination (e.g IZZ = IZI + IIZ)\n",
    "        res.append(v)\n",
    "        \n",
    "    return res"
   ]
  },
  {
   "cell_type": "code",
   "execution_count": 3,
   "metadata": {},
   "outputs": [],
   "source": [
    "def pillars(M, n):\n",
    "    # calculate the image of the pillars under a matrix M\n",
    "    \n",
    "    X1 = vector(M[0:2*n, 0])\n",
    "    Z1 = vector(M[0:2*n, n])\n",
    "    Y1 = X1 + Z1\n",
    "    \n",
    "    pI = base(M, n)\n",
    "    pX = [(X1 + b) for b in pI]\n",
    "    pY = [(Y1 + b) for b in pI]\n",
    "    pZ = [(Z1 + b) for b in pI]\n",
    "    \n",
    "    return [pI, pX, pY, pZ]   "
   ]
  },
  {
   "cell_type": "code",
   "execution_count": 4,
   "metadata": {},
   "outputs": [],
   "source": [
    "def tensor(A, n):\n",
    "    # calculate the n fold tensor product of a matrix A\n",
    "    \n",
    "    kron = A\n",
    "    count = 1\n",
    "    while count < n:\n",
    "        kron = np.kron(kron,A)\n",
    "        count = count + 1\n",
    "        \n",
    "    if n == 2:\n",
    "        res = np.reshape(kron, (4,4))\n",
    "    elif n == 3:\n",
    "        res = np.reshape(kron, (4,4,4)) \n",
    "    elif n == 4:\n",
    "        res = np.reshape(kron, (4,4,4,4)) \n",
    "    elif n == 5:\n",
    "        res = np.reshape(kron, (4,4,4,4,4)) \n",
    "        \n",
    "    return res"
   ]
  },
  {
   "cell_type": "code",
   "execution_count": 5,
   "metadata": {},
   "outputs": [],
   "source": [
    "def dist_stat(initial, M, n):\n",
    "    # returns the success probability and the fidelity of an n-to-1 protocol M applied to an initial state\n",
    "    pil = pillars(M, n)\n",
    "    out = []\n",
    "    for layer in pil:   \n",
    "        coef = 0\n",
    "        for elt in layer:\n",
    "            if n == 2:\n",
    "                coef = coef + initial[int(elt[0]) + 2*int(elt[n]), int(elt[1]) + 2*int(elt[n+1])]\n",
    "            if n == 3:\n",
    "                coef = coef + initial[int(elt[0]) + 2*int(elt[n]), int(elt[1]) + 2*int(elt[n+1]), \\\n",
    "                                   int(elt[2]) + 2*int(elt[n+2])]\n",
    "            if n == 4:\n",
    "                coef = coef + initial[int(elt[0]) + 2*int(elt[n]), int(elt[1]) + 2*int(elt[n+1]), \\\n",
    "                                   int(elt[2]) + 2*int(elt[n+2]), int(elt[3]) + 2*int(elt[n+3])]\n",
    "            if n == 5:\n",
    "                coef = coef + initial[int(elt[0]) + 2*int(elt[n]), int(elt[1]) + 2*int(elt[n+1]), \\\n",
    "                                   int(elt[2]) + 2*int(elt[n+2]), int(elt[3]) + 2*int(elt[n+3]), \\\n",
    "                                    int(elt[4]) + 2*int(elt[n+4])]\n",
    "        out.append(coef)\n",
    "    sp = sum(out)\n",
    "    fid = out[0]/sp\n",
    "    out_bell_diag_coefs = [out[0]/sp, out[1]/sp, out[2]/sp, out[3]/sp]\n",
    "\n",
    "    return round(sp,10), round(fid,10), out_bell_diag_coefs"
   ]
  },
  {
   "cell_type": "code",
   "execution_count": 6,
   "metadata": {},
   "outputs": [],
   "source": [
    "def sucprob_fid_lists(initial, transversal_inv, n):\n",
    "    # calculate the possible distillation statistics (success probability & fidelity) of the protocols in a transversal\n",
    "    # applied to an initial state\n",
    "\n",
    "    sp = []\n",
    "    fid = []\n",
    "    out_coefs = []\n",
    "    fslist = set()\n",
    "    for key, M in transversal_inv.items():\n",
    "        s, f, out_bell_diag_coefs = dist_stat(initial, M, n)\n",
    "        if (s,f) not in fslist:\n",
    "            sp.append(s)\n",
    "            fid.append(f)\n",
    "            out_coefs.append(out_bell_diag_coefs)\n",
    "            fslist.add((s,f))\n",
    "\n",
    "    return sp, fid, out_coefs"
   ]
  },
  {
   "cell_type": "markdown",
   "metadata": {},
   "source": [
    "## Inputs"
   ]
  },
  {
   "cell_type": "code",
   "execution_count": 7,
   "metadata": {},
   "outputs": [],
   "source": [
    "m = 2 # Number of input states"
   ]
  },
  {
   "cell_type": "code",
   "execution_count": 8,
   "metadata": {},
   "outputs": [],
   "source": [
    "# Load transversal\n",
    "transversal_inv = load('%d_transversal_inv.sobj'%m)"
   ]
  },
  {
   "cell_type": "markdown",
   "metadata": {},
   "source": [
    "## Find optimal protocol (largest output fidelity)"
   ]
  },
  {
   "cell_type": "code",
   "execution_count": 9,
   "metadata": {},
   "outputs": [
    {
     "name": "stdout",
     "output_type": "stream",
     "text": [
      "Code p = 0.68000\n",
      "Paper p = 0.68000\n",
      "Code F_out = 0.73529\n",
      "Paper F_out = 0.73529\n",
      "Bell-diagonal elements: 00+11, 00-11, 01+10, 01-10\n",
      "Bell-diagonal elements: 0.73529, 0.02941, 0.20588, 0.02941\n",
      "Bell-diagonal DEJMPS: 0.73529, 0.20588, 0.02941, 0.02941\n"
     ]
    }
   ],
   "source": [
    "# Input is Werner state\n",
    "F_in = 0.7\n",
    "\n",
    "# CODE - Calculate prob of success and output fidelity\n",
    "init = tensor(vector([F_in,(1-F_in)/3,(1-F_in)/3,(1-F_in)/3]), m)\n",
    "\n",
    "probs, fids, out_coefs = sucprob_fid_lists(init, transversal_inv, m)\n",
    "for p in probs:\n",
    "    assert p <= 1\n",
    "for Fout in fids:\n",
    "    assert Fout <= 1\n",
    "for coefs in out_coefs:\n",
    "    assert sum(coefs) - 1 < 1e-10, 'Sum of coefficients = %s'%sum(coefs)\n",
    "idx_max = np.argmax(fids)\n",
    "\n",
    "\n",
    "# PAPER - Prob of success and output fidelity reported in PAPER (Jansen2022)\n",
    "if m==2:\n",
    "    p_paper = (8/9)*F_in**2 - (4/9)*F_in + 5/9\n",
    "    Fout_paper = ((10/9)*F_in**2 - (2/9)*F_in + 1/9)/p_paper\n",
    "elif m==3:\n",
    "    p_paper = (32/27)*F_in**3 - (4/9)*F_in**2 + 7/27\n",
    "    Fout_paper = ((28/27)*F_in**3 - (1/9)*F_in + 2/27)/p_paper\n",
    "elif m==4:\n",
    "    p_paper = (32/27)*F_in**4 - (4/9)*F_in**2 + (4/27)*F_in + 1/9\n",
    "    Fout_paper = ((8/9)*F_in**4 + (8/27)*F_in**3 - (2/9)*F_in**2 + 1/27)/p_paper\n",
    "else:\n",
    "    raise ValueError('Value of m not implemented')\n",
    "\n",
    "\n",
    "print('Code p = %.5f'%probs[idx_max])\n",
    "print('Paper p = %.5f'%p_paper)\n",
    "print('Code F_out = %.5f'%fids[idx_max])\n",
    "print('Paper F_out = %.5f'%Fout_paper)\n",
    "\n",
    "print('Bell-diagonal elements: 00+11, 00-11, 01+10, 01-10')\n",
    "print('Bell-diagonal elements: %.5f, %.5f, %.5f, %.5f'%(out_coefs[idx_max][0],out_coefs[idx_max][2],\n",
    "                                                          out_coefs[idx_max][1],out_coefs[idx_max][3]))\n",
    "if m==2:\n",
    "    P = (F_in + (1-F_in)/3)*(F_in + (1-F_in)/3) + ((1-F_in)/3 + (1-F_in)/3)*((1-F_in)/3 + (1-F_in)/3)\n",
    "    A = (F_in*F_in + (1-F_in)**2/(3*3))/P\n",
    "    B = ((1-F_in)**2/(3*3) + (1-F_in)**2/(3*3))/P\n",
    "    C = ((1-F_in)**2/(3*3) + (1-F_in)**2/(3*3))/P\n",
    "    D = (F_in*(1-F_in)/3 + F_in*(1-F_in)/3)/P\n",
    "    print('Bell-diagonal DEJMPS: %.5f, %.5f, %.5f, %.5f'%(A,D,C,B))"
   ]
  },
  {
   "cell_type": "code",
   "execution_count": 11,
   "metadata": {},
   "outputs": [
    {
     "name": "stdout",
     "output_type": "stream",
     "text": [
      "0.029411764705882366 0.20588235294117652 0.029411764705882366\n"
     ]
    }
   ],
   "source": [
    "print(out_coefs[idx_max][2],out_coefs[idx_max][1],out_coefs[idx_max][3])"
   ]
  },
  {
   "cell_type": "markdown",
   "metadata": {},
   "source": [
    "## Plot all possible output fidelities"
   ]
  },
  {
   "cell_type": "code",
   "execution_count": 12,
   "metadata": {},
   "outputs": [],
   "source": [
    "F_min = 0.25 # Minimum fidelity\n",
    "F_max = 1 # Maximum fidelity\n",
    "numF = 10 # Number of points"
   ]
  },
  {
   "cell_type": "code",
   "execution_count": 13,
   "metadata": {
    "scrolled": false
   },
   "outputs": [],
   "source": [
    "# Calculations\n",
    "\n",
    "data = dict()\n",
    "\n",
    "for F_in in np.linspace(F_min, F_max, numF):\n",
    "    # Input is Werner state\n",
    "    init = tensor(vector([F_in,(1-F_in)/3,(1-F_in)/3,(1-F_in)/3]), m)\n",
    "\n",
    "    # Solve\n",
    "    probs, fids, out_coefs = sucprob_fid_lists(init, transversal_inv, m)\n",
    "\n",
    "    # Save\n",
    "    for p in probs:\n",
    "        assert p <= 1\n",
    "    for Fout in fids:\n",
    "        assert Fout <= 1\n",
    "    for coefs in out_coefs:\n",
    "        assert sum(coefs) - 1 < 1e-10, 'Sum of coefficients = %s'%sum(coefs)\n",
    "    data[F_in] = np.array([probs, fids])"
   ]
  },
  {
   "cell_type": "code",
   "execution_count": 14,
   "metadata": {},
   "outputs": [
    {
     "data": {
      "image/png": "[encoded data removed]",
      "text/plain": [
       "<Figure size 640x480 with 1 Axes>"
      ]
     },
     "metadata": {},
     "output_type": "display_data"
    }
   ],
   "source": [
    "# Plot\n",
    "\n",
    "# Fidelities\n",
    "fig, ax1 = plt.subplots()\n",
    "F_in_vec = np.linspace(F_min, F_max, numF)\n",
    "for F_in in F_in_vec:\n",
    "    plt.scatter([F_in for _ in data[F_in][1]], data[F_in][1],\n",
    "                s=5, color='k')\n",
    "if m==2:\n",
    "    Fout_paper_vec = [((10/9)*F_in**2 - (2/9)*F_in + 1/9)/((8/9)*F_in**2 - (4/9)*F_in + 5/9) for F_in in F_in_vec]\n",
    "elif m==3:\n",
    "    Fout_paper_vec = [((28/27)*F_in**3 - (1/9)*F_in + 2/27)/((32/27)*F_in**3 - (4/9)*F_in**2 + 7/27) for F_in in F_in_vec]\n",
    "elif m==4:\n",
    "    Fout_paper_vec = [((8/9)*F_in**4 + (8/27)*F_in**3 - (2/9)*F_in**2\n",
    "                       + 1/27) / ((32/27)*F_in**4 - (4/9)*F_in**2 + (4/27)*F_in + 1/9) for F_in in F_in_vec]\n",
    "else:\n",
    "    raise ValueError('Value of m not implemented')\n",
    "plt.plot(F_in_vec, Fout_paper_vec, color='tab:orange', label='Paper')\n",
    "\n",
    "plt.ylabel('Output fidelity')\n",
    "\n",
    "\n",
    "# Probabilities\n",
    "#ax2 = ax1.twinx()\n",
    "#color2 = 'tab:orange'\n",
    "#for F_in in np.linspace(F_min, F_max, numF):\n",
    "#    ax2.scatter([F_in for _ in data[F_in][0]], data[F_in][0],\n",
    "#                s=5, color=color2, zorder=-1000)\n",
    "#ax2.set_ylabel('Output fidelity', color=color2)\n",
    "#ax2.spines['right'].set_color(color2)\n",
    "#ax2.tick_params(axis='y', which='both', colors=color2)\n",
    "\n",
    "\n",
    "plt.title('%d identical Werner states'%m)\n",
    "plt.xlabel('Input fidelity')\n",
    "plt.legend()\n",
    "\n",
    "plt.show()"
   ]
  },
  {
   "cell_type": "code",
   "execution_count": null,
   "metadata": {},
   "outputs": [],
   "source": []
  },
  {
   "cell_type": "code",
   "execution_count": null,
   "metadata": {},
   "outputs": [],
   "source": []
  },
  {
   "cell_type": "code",
   "execution_count": null,
   "metadata": {},
   "outputs": [],
   "source": []
  },
  {
   "cell_type": "code",
   "execution_count": null,
   "metadata": {},
   "outputs": [],
   "source": []
  },
  {
   "cell_type": "code",
   "execution_count": null,
   "metadata": {},
   "outputs": [],
   "source": []
  },
  {
   "cell_type": "code",
   "execution_count": null,
   "metadata": {},
   "outputs": [],
   "source": []
  },
  {
   "cell_type": "code",
   "execution_count": null,
   "metadata": {},
   "outputs": [],
   "source": []
  }
 ],
 "metadata": {
  "kernelspec": {
   "display_name": "SageMath 10.1",
   "language": "sage",
   "name": "sagemath-purification"
  },
  "language_info": {
   "codemirror_mode": {
    "name": "ipython",
    "version": 3
   },
   "file_extension": ".py",
   "mimetype": "text/x-python",
   "name": "python",
   "nbconvert_exporter": "python",
   "pygments_lexer": "ipython3",
   "version": "3.11.1"
  }
 },
 "nbformat": 4,
 "nbformat_minor": 2
}
