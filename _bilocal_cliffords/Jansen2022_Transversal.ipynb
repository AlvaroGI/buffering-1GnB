{
 "cells": [
  {
   "cell_type": "code",
   "execution_count": 1,
   "metadata": {},
   "outputs": [],
   "source": [
    "import numpy as np\n",
    "import itertools as it"
   ]
  },
  {
   "cell_type": "code",
   "execution_count": 5,
   "metadata": {},
   "outputs": [],
   "source": [
    "def base(M):\n",
    "    # calculate the image of the base under a matrix M\n",
    "    \n",
    "    # make a set of all combinations of the last n-1 columns (these correspond to Z_2,...,Z_n)\n",
    "    s = list([M[0:2*n, i] for i in range(n+1, 2*n)])\n",
    "    powerset = it.chain.from_iterable(it.combinations(s, r) for r in range(1, len(s)+1)) \n",
    "    \n",
    "    base_map = set()\n",
    "    for i in powerset:\n",
    "        v = vector(sum(i))     # calculate the sum of the elements of each combination (e.g IZZ = IZI + IIZ)\n",
    "        v.set_immutable()\n",
    "        base_map.add(v)\n",
    "    return frozenset(base_map)"
   ]
  },
  {
   "cell_type": "code",
   "execution_count": 36,
   "metadata": {},
   "outputs": [],
   "source": [
    "# number of qubits (n > 1)\n",
    "n = 5\n",
    "\n",
    "# calculate number of cosets\n",
    "prod = 1\n",
    "for i in range(1,n+1):\n",
    "    prod = prod * (2**i + 1)\n",
    "index = 1/3 * (2**n - 1) * prod\n",
    "\n",
    "# load symplectic group\n",
    "Cn = Sp(2*n, GF(2))\n",
    "\n",
    "# calculate matrix needed for transformation from 'sage symplectic' to 'literature symplectic'\n",
    "anti_identity = matrix.identity(n)\n",
    "for i in range(0, (n/2).ceil()):\n",
    "    anti_identity.swap_rows(i, n-i-1) \n",
    "T = block_matrix(GF(2), [[matrix.identity(n), zero_matrix(n,n)], [zero_matrix(n,n), anti_identity]], subdivide = False)"
   ]
  },
  {
   "cell_type": "code",
   "execution_count": 37,
   "metadata": {
    "scrolled": true
   },
   "outputs": [
    {
     "name": "stdout",
     "output_type": "stream",
     "text": [
      "775150/782595\r"
     ]
    },
    {
     "ename": "KeyboardInterrupt",
     "evalue": "",
     "output_type": "error",
     "traceback": [
      "\u001b[0;31m---------------------------------------------------------------------------\u001b[0m",
      "\u001b[0;31mKeyboardInterrupt\u001b[0m                         Traceback (most recent call last)",
      "Cell \u001b[0;32mIn [37], line 6\u001b[0m\n\u001b[1;32m      4\u001b[0m \u001b[38;5;28mprint\u001b[39m(\u001b[38;5;124m'\u001b[39m\u001b[38;5;132;01m%d\u001b[39;00m\u001b[38;5;124m/\u001b[39m\u001b[38;5;132;01m%d\u001b[39;00m\u001b[38;5;124m'\u001b[39m\u001b[38;5;241m%\u001b[39m(\u001b[38;5;28mlen\u001b[39m(transversal_inv)\u001b[38;5;241m+\u001b[39mInteger(\u001b[38;5;241m1\u001b[39m),index), end\u001b[38;5;241m=\u001b[39m\u001b[38;5;124m'\u001b[39m\u001b[38;5;130;01m\\r\u001b[39;00m\u001b[38;5;124m'\u001b[39m)\n\u001b[1;32m      5\u001b[0m \u001b[38;5;66;03m# generate random element of symplectic group\u001b[39;00m\n\u001b[0;32m----> 6\u001b[0m M \u001b[38;5;241m=\u001b[39m \u001b[43mT\u001b[49m\u001b[43m \u001b[49m\u001b[38;5;241;43m*\u001b[39;49m\u001b[43m \u001b[49m\u001b[43mCn\u001b[49m\u001b[38;5;241;43m.\u001b[39;49m\u001b[43mrandom_element\u001b[49m\u001b[43m(\u001b[49m\u001b[43m)\u001b[49m \u001b[38;5;241m*\u001b[39m T\n\u001b[1;32m      8\u001b[0m \u001b[38;5;66;03m# calculating M inverse\u001b[39;00m\n\u001b[1;32m      9\u001b[0m A \u001b[38;5;241m=\u001b[39m M[Integer(\u001b[38;5;241m0\u001b[39m):n, Integer(\u001b[38;5;241m0\u001b[39m):n]\n",
      "File \u001b[0;32m/private/var/tmp/sage-10.1-current/local/var/lib/sage/venv-python3.11.1/lib/python3.11/site-packages/sage/structure/element.pyx:3939\u001b[0m, in \u001b[0;36msage.structure.element.Matrix.__mul__ (build/cythonized/sage/structure/element.c:24277)\u001b[0;34m()\u001b[0m\n\u001b[1;32m   3937\u001b[0m \n\u001b[1;32m   3938\u001b[0m         if BOTH_ARE_ELEMENT(cl):\n\u001b[0;32m-> 3939\u001b[0m             return coercion_model.bin_op(left, right, mul)\n\u001b[1;32m   3940\u001b[0m \n\u001b[1;32m   3941\u001b[0m         cdef long value\n",
      "File \u001b[0;32m/private/var/tmp/sage-10.1-current/local/var/lib/sage/venv-python3.11.1/lib/python3.11/site-packages/sage/structure/coerce.pyx:1217\u001b[0m, in \u001b[0;36msage.structure.coerce.CoercionModel.bin_op (build/cythonized/sage/structure/coerce.c:10735)\u001b[0;34m()\u001b[0m\n\u001b[1;32m   1215\u001b[0m         return (<Action>action)._act_(x, y)\n\u001b[1;32m   1216\u001b[0m     else:\n\u001b[0;32m-> 1217\u001b[0m         return (<Action>action)._act_(y, x)\n\u001b[1;32m   1218\u001b[0m \n\u001b[1;32m   1219\u001b[0m # Now coerce to a common parent and do the operation there\n",
      "File \u001b[0;32m/private/var/tmp/sage-10.1-current/local/var/lib/sage/venv-python3.11.1/lib/python3.11/site-packages/sage/structure/coerce_actions.pyx:134\u001b[0m, in \u001b[0;36msage.structure.coerce_actions.ActOnAction._act_ (build/cythonized/sage/structure/coerce_actions.c:4529)\u001b[0;34m()\u001b[0m\n\u001b[1;32m    132\u001b[0m     <... 'sage.structure.coerce_actions.ActOnAction'>\n\u001b[1;32m    133\u001b[0m \"\"\"\n\u001b[0;32m--> 134\u001b[0m return (<Element>g)._act_on_(x, self._is_left)\n\u001b[1;32m    135\u001b[0m \n\u001b[1;32m    136\u001b[0m \n",
      "File \u001b[0;32m/private/var/tmp/sage-10.1-current/local/var/lib/sage/venv-python3.11.1/lib/python3.11/site-packages/sage/groups/matrix_gps/group_element_gap.pyx:156\u001b[0m, in \u001b[0;36msage.groups.matrix_gps.group_element_gap.MatrixGroupElement_gap._act_on_ (build/cythonized/sage/groups/matrix_gps/group_element_gap.c:4527)\u001b[0;34m()\u001b[0m\n\u001b[1;32m    154\u001b[0m         return self.matrix() * x\n\u001b[1;32m    155\u001b[0m     else:\n\u001b[0;32m--> 156\u001b[0m         return x * self.matrix()\n\u001b[1;32m    157\u001b[0m except TypeError:\n\u001b[1;32m    158\u001b[0m     return None\n",
      "File \u001b[0;32m/private/var/tmp/sage-10.1-current/local/var/lib/sage/venv-python3.11.1/lib/python3.11/site-packages/sage/misc/cachefunc.pyx:2301\u001b[0m, in \u001b[0;36msage.misc.cachefunc.CachedMethodCallerNoArgs.__call__ (build/cythonized/sage/misc/cachefunc.c:12752)\u001b[0;34m()\u001b[0m\n\u001b[1;32m   2299\u001b[0m if self.cache is None:\n\u001b[1;32m   2300\u001b[0m     f = self.f\n\u001b[0;32m-> 2301\u001b[0m     self.cache = f(self._instance)\n\u001b[1;32m   2302\u001b[0m return self.cache\n\u001b[1;32m   2303\u001b[0m \n",
      "File \u001b[0;32m/private/var/tmp/sage-10.1-current/local/var/lib/sage/venv-python3.11.1/lib/python3.11/site-packages/sage/groups/matrix_gps/group_element_gap.pyx:213\u001b[0m, in \u001b[0;36msage.groups.matrix_gps.group_element_gap.MatrixGroupElement_gap.matrix (build/cythonized/sage/groups/matrix_gps/group_element_gap.c:5208)\u001b[0;34m()\u001b[0m\n\u001b[1;32m    211\u001b[0m MS = self.parent().matrix_space()\n\u001b[1;32m    212\u001b[0m ring = MS.base_ring()\n\u001b[0;32m--> 213\u001b[0m m = MS([x.sage(ring=ring) for x in entries])\n\u001b[1;32m    214\u001b[0m m.set_immutable()\n\u001b[1;32m    215\u001b[0m return m\n",
      "File \u001b[0;32m/private/var/tmp/sage-10.1-current/local/var/lib/sage/venv-python3.11.1/lib/python3.11/site-packages/sage/libs/gap/element.pyx:1832\u001b[0m, in \u001b[0;36msage.libs.gap.element.GapElement_FiniteField.sage (build/cythonized/sage/libs/gap/element.c:15980)\u001b[0;34m()\u001b[0m\n\u001b[1;32m   1830\u001b[0m                       'divisible by {})').format(char, deg))\n\u001b[1;32m   1831\u001b[0m \n\u001b[0;32m-> 1832\u001b[0m if self.IsOne():\n\u001b[1;32m   1833\u001b[0m     return ring.one()\n\u001b[1;32m   1834\u001b[0m if deg == 1 and char == ring.characteristic():\n",
      "File \u001b[0;32m/private/var/tmp/sage-10.1-current/local/var/lib/sage/venv-python3.11.1/lib/python3.11/site-packages/sage/libs/gap/element.pyx:2653\u001b[0m, in \u001b[0;36msage.libs.gap.element.GapElement_MethodProxy.__call__ (build/cythonized/sage/libs/gap/element.c:20964)\u001b[0;34m()\u001b[0m\n\u001b[1;32m   2651\u001b[0m     return GapElement_Function.__call__(self, * ([self.first_argument] + list(args)))\n\u001b[1;32m   2652\u001b[0m else:\n\u001b[0;32m-> 2653\u001b[0m     return GapElement_Function.__call__(self, self.first_argument)\n\u001b[1;32m   2654\u001b[0m \n\u001b[1;32m   2655\u001b[0m \n",
      "File \u001b[0;32m/private/var/tmp/sage-10.1-current/local/var/lib/sage/venv-python3.11.1/lib/python3.11/site-packages/sage/libs/gap/element.pyx:2499\u001b[0m, in \u001b[0;36msage.libs.gap.element.GapElement_Function.__call__ (build/cythonized/sage/libs/gap/element.c:19900)\u001b[0;34m()\u001b[0m\n\u001b[1;32m   2497\u001b[0m try:\n\u001b[1;32m   2498\u001b[0m     sig_GAP_Enter()\n\u001b[0;32m-> 2499\u001b[0m     sig_on()\n\u001b[1;32m   2500\u001b[0m     if n == 0:\n\u001b[1;32m   2501\u001b[0m         result = CALL_0ARGS(self.value)\n",
      "\u001b[0;31mKeyboardInterrupt\u001b[0m: "
     ]
    }
   ],
   "source": [
    "transversal_inv = {}\n",
    "\n",
    "while len(transversal_inv)<index:\n",
    "    print('%d/%d'%(len(transversal_inv)+1,index), end='\\r')\n",
    "    # generate random element of symplectic group\n",
    "    M = T * Cn.random_element() * T\n",
    "    \n",
    "    # calculating M inverse\n",
    "    A = M[0:n, 0:n]\n",
    "    B = M[0:n, n:2*n]\n",
    "    C = M[n:2*n, 0:n]\n",
    "    D = M[n:2*n, n:2*n]\n",
    "    M_inv = block_matrix([[D.transpose(),-B.transpose()],[-C.transpose(),A.transpose()]], subdivide=False)\n",
    "    M_basecol = base(M_inv)\n",
    "    \n",
    "    # check whether coset is already in transversal\n",
    "    if M_basecol not in transversal_inv: \n",
    "        transversal_inv[M_basecol] = M_inv\n"
   ]
  },
  {
   "cell_type": "code",
   "execution_count": null,
   "metadata": {},
   "outputs": [],
   "source": [
    "# save transversal\n",
    "save(transversal_inv, '%d_transversal_inv.sobj'%n)"
   ]
  }
 ],
 "metadata": {
  "kernelspec": {
   "display_name": "SageMath 10.1",
   "language": "sage",
   "name": "sagemath-purification"
  },
  "language_info": {
   "codemirror_mode": {
    "name": "ipython",
    "version": 3
   },
   "file_extension": ".py",
   "mimetype": "text/x-python",
   "name": "python",
   "nbconvert_exporter": "python",
   "pygments_lexer": "ipython3",
   "version": "3.11.1"
  }
 },
 "nbformat": 4,
 "nbformat_minor": 2
}
