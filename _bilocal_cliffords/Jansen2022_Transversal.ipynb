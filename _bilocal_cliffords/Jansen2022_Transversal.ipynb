{
 "cells": [
  {
   "cell_type": "code",
   "execution_count": 1,
   "metadata": {},
   "outputs": [],
   "source": [
    "import numpy as np\n",
    "import itertools as it"
   ]
  },
  {
   "cell_type": "code",
   "execution_count": 5,
   "metadata": {},
   "outputs": [],
   "source": [
    "def base(M):\n",
    "    # calculate the image of the base under a matrix M\n",
    "    \n",
    "    # make a set of all combinations of the last n-1 columns (these correspond to Z_2,...,Z_n)\n",
    "    s = list([M[0:2*n, i] for i in range(n+1, 2*n)])\n",
    "    powerset = it.chain.from_iterable(it.combinations(s, r) for r in range(1, len(s)+1)) \n",
    "    \n",
    "    base_map = set()\n",
    "    for i in powerset:\n",
    "        v = vector(sum(i))     # calculate the sum of the elements of each combination (e.g IZZ = IZI + IIZ)\n",
    "        v.set_immutable()\n",
    "        base_map.add(v)\n",
    "    return frozenset(base_map)"
   ]
  },
  {
   "cell_type": "code",
   "execution_count": 15,
   "metadata": {},
   "outputs": [],
   "source": [
    "# number of qubits (n > 1)\n",
    "n = 5\n",
    "\n",
    "# calculate number of cosets\n",
    "prod = 1\n",
    "for i in range(1,n+1):\n",
    "    prod = prod * (2**i + 1)\n",
    "index = 1/3 * (2**n - 1) * prod\n",
    "\n",
    "# load symplectic group\n",
    "Cn = Sp(2*n, GF(2))\n",
    "\n",
    "# calculate matrix needed for transformation from 'sage symplectic' to 'literature symplectic'\n",
    "anti_identity = matrix.identity(n)\n",
    "for i in range(0, (n/2).ceil()):\n",
    "    anti_identity.swap_rows(i, n-i-1) \n",
    "T = block_matrix(GF(2), [[matrix.identity(n), zero_matrix(n,n)], [zero_matrix(n,n), anti_identity]], subdivide = False)"
   ]
  },
  {
   "cell_type": "code",
   "execution_count": 16,
   "metadata": {
    "scrolled": true
   },
   "outputs": [
    {
     "name": "stdout",
     "output_type": "stream",
     "text": [
      "770335/782595\r"
     ]
    },
    {
     "ename": "KeyboardInterrupt",
     "evalue": "",
     "output_type": "error",
     "traceback": [
      "\u001b[0;31m---------------------------------------------------------------------------\u001b[0m",
      "\u001b[0;31mKeyboardInterrupt\u001b[0m                         Traceback (most recent call last)",
      "Cell \u001b[0;32mIn [16], line 14\u001b[0m\n\u001b[1;32m     12\u001b[0m D \u001b[38;5;241m=\u001b[39m M[n:Integer(\u001b[38;5;241m2\u001b[39m)\u001b[38;5;241m*\u001b[39mn, n:Integer(\u001b[38;5;241m2\u001b[39m)\u001b[38;5;241m*\u001b[39mn]\n\u001b[1;32m     13\u001b[0m M_inv \u001b[38;5;241m=\u001b[39m block_matrix([[D\u001b[38;5;241m.\u001b[39mtranspose(),\u001b[38;5;241m-\u001b[39mB\u001b[38;5;241m.\u001b[39mtranspose()],[\u001b[38;5;241m-\u001b[39mC\u001b[38;5;241m.\u001b[39mtranspose(),A\u001b[38;5;241m.\u001b[39mtranspose()]], subdivide\u001b[38;5;241m=\u001b[39m\u001b[38;5;28;01mFalse\u001b[39;00m)\n\u001b[0;32m---> 14\u001b[0m M_basecol \u001b[38;5;241m=\u001b[39m \u001b[43mbase\u001b[49m\u001b[43m(\u001b[49m\u001b[43mM_inv\u001b[49m\u001b[43m)\u001b[49m\n\u001b[1;32m     16\u001b[0m \u001b[38;5;66;03m# check whether coset is already in transversal\u001b[39;00m\n\u001b[1;32m     17\u001b[0m \u001b[38;5;28;01mif\u001b[39;00m M_basecol \u001b[38;5;129;01mnot\u001b[39;00m \u001b[38;5;129;01min\u001b[39;00m transversal_inv: \n",
      "Cell \u001b[0;32mIn [5], line 10\u001b[0m, in \u001b[0;36mbase\u001b[0;34m(M)\u001b[0m\n\u001b[1;32m      8\u001b[0m base_map \u001b[38;5;241m=\u001b[39m \u001b[38;5;28mset\u001b[39m()\n\u001b[1;32m      9\u001b[0m \u001b[38;5;28;01mfor\u001b[39;00m i \u001b[38;5;129;01min\u001b[39;00m powerset:\n\u001b[0;32m---> 10\u001b[0m     v \u001b[38;5;241m=\u001b[39m \u001b[43mvector\u001b[49m\u001b[43m(\u001b[49m\u001b[38;5;28;43msum\u001b[39;49m\u001b[43m(\u001b[49m\u001b[43mi\u001b[49m\u001b[43m)\u001b[49m\u001b[43m)\u001b[49m     \u001b[38;5;66;03m# calculate the sum of the elements of each combination (e.g IZZ = IZI + IIZ)\u001b[39;00m\n\u001b[1;32m     11\u001b[0m     v\u001b[38;5;241m.\u001b[39mset_immutable()\n\u001b[1;32m     12\u001b[0m     base_map\u001b[38;5;241m.\u001b[39madd(v)\n",
      "File \u001b[0;32m/private/var/tmp/sage-10.1-current/local/var/lib/sage/venv-python3.11.1/lib/python3.11/site-packages/sage/modules/free_module_element.pyx:492\u001b[0m, in \u001b[0;36msage.modules.free_module_element.vector (build/cythonized/sage/modules/free_module_element.c:4816)\u001b[0;34m()\u001b[0m\n\u001b[1;32m    490\u001b[0m     pass\n\u001b[1;32m    491\u001b[0m else:\n\u001b[0;32m--> 492\u001b[0m     v = arg0_vector_(arg1)\n\u001b[1;32m    493\u001b[0m     if immutable:\n\u001b[1;32m    494\u001b[0m         v.set_immutable()\n",
      "File \u001b[0;32m/private/var/tmp/sage-10.1-current/local/var/lib/sage/venv-python3.11.1/lib/python3.11/site-packages/sage/categories/finite_dimensional_modules_with_basis.py:555\u001b[0m, in \u001b[0;36mFiniteDimensionalModulesWithBasis.ElementMethods._vector_\u001b[0;34m(self, order)\u001b[0m\n\u001b[1;32m    553\u001b[0m     dense_free_module \u001b[38;5;241m=\u001b[39m FreeModule(\u001b[38;5;28mself\u001b[39m\u001b[38;5;241m.\u001b[39mparent()\u001b[38;5;241m.\u001b[39mbase_ring(), \u001b[38;5;28mlen\u001b[39m(order))\n\u001b[1;32m    554\u001b[0m \u001b[38;5;66;03m# We slightly break encapsulation for speed reasons\u001b[39;00m\n\u001b[0;32m--> 555\u001b[0m \u001b[38;5;28;01mreturn\u001b[39;00m \u001b[43mdense_free_module\u001b[49m\u001b[38;5;241;43m.\u001b[39;49m\u001b[43melement_class\u001b[49m\u001b[43m(\u001b[49m\u001b[43mdense_free_module\u001b[49m\u001b[43m,\u001b[49m\n\u001b[1;32m    556\u001b[0m \u001b[43m                                       \u001b[49m\u001b[38;5;28;43mself\u001b[39;49m\u001b[38;5;241;43m.\u001b[39;49m\u001b[43mdense_coefficient_list\u001b[49m\u001b[43m(\u001b[49m\u001b[43morder\u001b[49m\u001b[43m)\u001b[49m\u001b[43m,\u001b[49m\n\u001b[1;32m    557\u001b[0m \u001b[43m                                       \u001b[49m\u001b[43mcoerce\u001b[49m\u001b[38;5;241;43m=\u001b[39;49m\u001b[38;5;28;43;01mTrue\u001b[39;49;00m\u001b[43m,\u001b[49m\u001b[43m \u001b[49m\u001b[43mcopy\u001b[49m\u001b[38;5;241;43m=\u001b[39;49m\u001b[38;5;28;43;01mFalse\u001b[39;49;00m\u001b[43m)\u001b[49m\n",
      "File \u001b[0;32m/private/var/tmp/sage-10.1-current/local/var/lib/sage/venv-python3.11.1/lib/python3.11/site-packages/sage/modules/vector_mod2_dense.pyx:204\u001b[0m, in \u001b[0;36msage.modules.vector_mod2_dense.Vector_mod2_dense.__init__ (build/cythonized/sage/modules/vector_mod2_dense.cpp:4145)\u001b[0;34m()\u001b[0m\n\u001b[1;32m    202\u001b[0m if isinstance(xi, (IntegerMod_int, int, Integer)):\n\u001b[1;32m    203\u001b[0m     # the if/else statement is because in some compilers, (-1)%2 is -1\n\u001b[0;32m--> 204\u001b[0m     mzd_write_bit(self._entries, 0, i, 1 if xi%2 else 0)\n\u001b[1;32m    205\u001b[0m elif isinstance(xi, Rational):\n\u001b[1;32m    206\u001b[0m     if not (xi.denominator() % 2):\n",
      "File \u001b[0;32m/private/var/tmp/sage-10.1-current/local/var/lib/sage/venv-python3.11.1/lib/python3.11/site-packages/sage/rings/finite_rings/integer_mod.pyx:492\u001b[0m, in \u001b[0;36msage.rings.finite_rings.integer_mod.IntegerMod_abstract.__mod__ (build/cythonized/sage/rings/finite_rings/integer_mod.c:7638)\u001b[0;34m()\u001b[0m\n\u001b[1;32m    490\u001b[0m     return NotImplemented\n\u001b[1;32m    491\u001b[0m from .integer_mod_ring import IntegerModRing\n\u001b[0;32m--> 492\u001b[0m R = IntegerModRing(modulus)\n\u001b[1;32m    493\u001b[0m if (<Element>self)._parent._IntegerModRing_generic__order % R.order():\n\u001b[1;32m    494\u001b[0m     raise ArithmeticError(f\"reduction modulo {modulus!r} not defined\")\n",
      "File \u001b[0;32m/private/var/tmp/sage-10.1-current/local/var/lib/sage/venv-python3.11.1/lib/python3.11/site-packages/sage/structure/factory.pyx:369\u001b[0m, in \u001b[0;36msage.structure.factory.UniqueFactory.__call__ (build/cythonized/sage/structure/factory.c:2321)\u001b[0;34m()\u001b[0m\n\u001b[1;32m    367\u001b[0m     False\n\u001b[1;32m    368\u001b[0m \"\"\"\n\u001b[0;32m--> 369\u001b[0m key, kwds = self.create_key_and_extra_args(*args, **kwds)\n\u001b[1;32m    370\u001b[0m version = self.get_version(sage_version)\n\u001b[1;32m    371\u001b[0m return self.get_object(version, key, kwds)\n",
      "File \u001b[0;32m/private/var/tmp/sage-10.1-current/local/var/lib/sage/venv-python3.11.1/lib/python3.11/site-packages/sage/rings/finite_rings/integer_mod_ring.py:207\u001b[0m, in \u001b[0;36mIntegerModFactory.create_key_and_extra_args\u001b[0;34m(self, order, is_field, category)\u001b[0m\n\u001b[1;32m    204\u001b[0m         out\u001b[38;5;241m.\u001b[39m_factory_data[\u001b[38;5;241m3\u001b[39m][\u001b[38;5;124m'\u001b[39m\u001b[38;5;124mcategory\u001b[39m\u001b[38;5;124m'\u001b[39m] \u001b[38;5;241m=\u001b[39m category\n\u001b[1;32m    205\u001b[0m     \u001b[38;5;28;01mreturn\u001b[39;00m out\n\u001b[0;32m--> 207\u001b[0m \u001b[38;5;28;01mdef\u001b[39;00m \u001b[38;5;21mcreate_key_and_extra_args\u001b[39m(\u001b[38;5;28mself\u001b[39m, order\u001b[38;5;241m=\u001b[39m\u001b[38;5;241m0\u001b[39m, is_field\u001b[38;5;241m=\u001b[39m\u001b[38;5;28;01mFalse\u001b[39;00m, category\u001b[38;5;241m=\u001b[39m\u001b[38;5;28;01mNone\u001b[39;00m):\n\u001b[1;32m    208\u001b[0m     \u001b[38;5;124;03m\"\"\"\u001b[39;00m\n\u001b[1;32m    209\u001b[0m \u001b[38;5;124;03m    An integer mod ring is specified uniquely by its order.\u001b[39;00m\n\u001b[1;32m    210\u001b[0m \n\u001b[0;32m   (...)\u001b[0m\n\u001b[1;32m    216\u001b[0m \u001b[38;5;124;03m        (7, {'category': Category of fields})\u001b[39;00m\n\u001b[1;32m    217\u001b[0m \u001b[38;5;124;03m    \"\"\"\u001b[39;00m\n\u001b[1;32m    218\u001b[0m     \u001b[38;5;28;01mif\u001b[39;00m is_field:\n",
      "File \u001b[0;32msrc/cysignals/signals.pyx:310\u001b[0m, in \u001b[0;36mcysignals.signals.python_check_interrupt\u001b[0;34m()\u001b[0m\n",
      "\u001b[0;31mKeyboardInterrupt\u001b[0m: "
     ]
    }
   ],
   "source": [
    "transversal_inv = {}\n",
    "\n",
    "while len(transversal_inv)<index:\n",
    "    print('%d/%d'%(len(transversal_inv)+1,index), end='\\r')\n",
    "    # generate random element of symplectic group\n",
    "    M = T * Cn.random_element() * T\n",
    "    \n",
    "    # calculating M inverse\n",
    "    A = M[0:n, 0:n]\n",
    "    B = M[0:n, n:2*n]\n",
    "    C = M[n:2*n, 0:n]\n",
    "    D = M[n:2*n, n:2*n]\n",
    "    M_inv = block_matrix([[D.transpose(),-B.transpose()],[-C.transpose(),A.transpose()]], subdivide=False)\n",
    "    M_basecol = base(M_inv)\n",
    "    \n",
    "    # check whether coset is already in transversal\n",
    "    if M_basecol not in transversal_inv: \n",
    "        transversal_inv[M_basecol] = M_inv\n"
   ]
  },
  {
   "cell_type": "code",
   "execution_count": null,
   "metadata": {},
   "outputs": [],
   "source": [
    "# save transversal\n",
    "save(transversal_inv, '%d_transversal_inv.sobj'%n)"
   ]
  },
  {
   "cell_type": "code",
   "execution_count": null,
   "metadata": {},
   "outputs": [],
   "source": []
  },
  {
   "cell_type": "code",
   "execution_count": null,
   "metadata": {},
   "outputs": [],
   "source": []
  }
 ],
 "metadata": {
  "kernelspec": {
   "display_name": "SageMath 10.1",
   "language": "sage",
   "name": "sagemath-purification"
  },
  "language_info": {
   "codemirror_mode": {
    "name": "ipython",
    "version": 3
   },
   "file_extension": ".py",
   "mimetype": "text/x-python",
   "name": "python",
   "nbconvert_exporter": "python",
   "pygments_lexer": "ipython3",
   "version": "3.11.1"
  }
 },
 "nbformat": 4,
 "nbformat_minor": 2
}
