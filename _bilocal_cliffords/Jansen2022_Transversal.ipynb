{
 "cells": [
  {
   "cell_type": "code",
   "execution_count": 1,
   "metadata": {},
   "outputs": [],
   "source": [
    "import numpy as np\n",
    "import itertools as it"
   ]
  },
  {
   "cell_type": "code",
   "execution_count": 2,
   "metadata": {},
   "outputs": [],
   "source": [
    "def base(M):\n",
    "    # calculate the image of the base under a matrix M\n",
    "    \n",
    "    # make a set of all combinations of the last n-1 columns (these correspond to Z_2,...,Z_n)\n",
    "    s = list([M[0:2*n, i] for i in range(n+1, 2*n)])\n",
    "    powerset = it.chain.from_iterable(it.combinations(s, r) for r in range(1, len(s)+1)) \n",
    "    \n",
    "    base_map = set()\n",
    "    for i in powerset:\n",
    "        v = vector(sum(i))     # calculate the sum of the elements of each combination (e.g IZZ = IZI + IIZ)\n",
    "        v.set_immutable()\n",
    "        base_map.add(v)\n",
    "    return frozenset(base_map)"
   ]
  },
  {
   "cell_type": "code",
   "execution_count": 3,
   "metadata": {},
   "outputs": [],
   "source": [
    "# number of qubits (n > 1)\n",
    "n = 2\n",
    "\n",
    "# calculate number of cosets\n",
    "prod = 1\n",
    "for i in range(1,n+1):\n",
    "    prod = prod * (2**i + 1)\n",
    "index = 1/3 * (2**n - 1) * prod\n",
    "\n",
    "# load symplectic group\n",
    "Cn = Sp(2*n, GF(2))\n",
    "\n",
    "# calculate matrix needed for transformation from 'sage symplectic' to 'literature symplectic'\n",
    "anti_identity = matrix.identity(n)\n",
    "for i in range(0, (n/2).ceil()):\n",
    "    anti_identity.swap_rows(i, n-i-1) \n",
    "T = block_matrix(GF(2), [[matrix.identity(n), zero_matrix(n,n)], [zero_matrix(n,n), anti_identity]], subdivide = False)"
   ]
  },
  {
   "cell_type": "code",
   "execution_count": 4,
   "metadata": {
    "scrolled": true
   },
   "outputs": [
    {
     "name": "stdout",
     "output_type": "stream",
     "text": [
      "1/15\r",
      "2/15\r",
      "3/15\r",
      "4/15\r",
      "5/15\r",
      "6/15\r",
      "6/15\r",
      "7/15\r",
      "7/15\r",
      "8/15\r",
      "8/15\r",
      "9/15\r",
      "10/15\r",
      "11/15\r",
      "11/15\r",
      "11/15\r",
      "12/15\r",
      "12/15\r",
      "12/15\r",
      "12/15\r",
      "13/15\r",
      "13/15\r",
      "13/15\r",
      "13/15\r",
      "13/15\r",
      "13/15\r",
      "14/15\r",
      "14/15\r",
      "14/15\r",
      "14/15\r",
      "14/15\r",
      "14/15\r",
      "14/15\r",
      "14/15\r",
      "14/15\r",
      "14/15\r",
      "14/15\r",
      "14/15\r",
      "14/15\r",
      "15/15\r",
      "15/15\r",
      "15/15\r",
      "15/15\r",
      "15/15\r"
     ]
    }
   ],
   "source": [
    "transversal_inv = {}\n",
    "\n",
    "while len(transversal_inv)<index:\n",
    "    print('%d/%d'%(len(transversal_inv)+1,index), end='\\r')\n",
    "    # generate random element of symplectic group\n",
    "    M = T * Cn.random_element() * T\n",
    "    \n",
    "    # calculating M inverse\n",
    "    A = M[0:n, 0:n]\n",
    "    B = M[0:n, n:2*n]\n",
    "    C = M[n:2*n, 0:n]\n",
    "    D = M[n:2*n, n:2*n]\n",
    "    M_inv = block_matrix([[D.transpose(),-B.transpose()],[-C.transpose(),A.transpose()]], subdivide=False)\n",
    "    M_basecol = base(M_inv)\n",
    "    \n",
    "    # check whether coset is already in transversal\n",
    "    if M_basecol not in transversal_inv: \n",
    "        transversal_inv[M_basecol] = M_inv\n"
   ]
  },
  {
   "cell_type": "code",
   "execution_count": 5,
   "metadata": {},
   "outputs": [],
   "source": [
    "# save transversal\n",
    "save(transversal_inv, '%d_transversal_inv.sobj'%n)"
   ]
  },
  {
   "cell_type": "code",
   "execution_count": null,
   "metadata": {},
   "outputs": [],
   "source": []
  },
  {
   "cell_type": "code",
   "execution_count": null,
   "metadata": {},
   "outputs": [],
   "source": []
  }
 ],
 "metadata": {
  "kernelspec": {
   "display_name": "SageMath 10.1",
   "language": "sage",
   "name": "sagemath-purification"
  },
  "language_info": {
   "codemirror_mode": {
    "name": "ipython",
    "version": 3
   },
   "file_extension": ".py",
   "mimetype": "text/x-python",
   "name": "python",
   "nbconvert_exporter": "python",
   "pygments_lexer": "ipython3",
   "version": "3.11.1"
  }
 },
 "nbformat": 4,
 "nbformat_minor": 2
}
