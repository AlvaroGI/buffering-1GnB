{
 "cells": [
  {
   "cell_type": "markdown",
   "id": "7a11a714",
   "metadata": {},
   "source": [
    "# Bounds on $\\overline F$"
   ]
  },
  {
   "cell_type": "code",
   "execution_count": 1,
   "id": "62c9b13a",
   "metadata": {},
   "outputs": [],
   "source": [
    "import numpy as np\n",
    "import math\n",
    "import importlib as imp\n",
    "import matplotlib.pyplot as plt\n",
    "from tqdm.notebook import tqdm as tqdmn\n",
    "from scipy.optimize import fsolve\n",
    "\n",
    "import main_1GnB as main"
   ]
  },
  {
   "cell_type": "markdown",
   "id": "a9360e7d",
   "metadata": {},
   "source": [
    "---\n",
    "---\n",
    "## Bounds on the fidelity"
   ]
  },
  {
   "cell_type": "code",
   "execution_count": 2,
   "id": "34f32d3c",
   "metadata": {},
   "outputs": [],
   "source": [
    "# x-axis\n",
    "varying_param = 'x'\n",
    "varying_array = np.linspace(0,1,50)\n",
    "\n",
    "# Parameters\n",
    "p_gen = 0.1\n",
    "n = 5\n",
    "F_new = 0.9\n",
    "p_con = 0.5\n",
    "Gamma = 1\n",
    "\n",
    "savefig = True"
   ]
  },
  {
   "cell_type": "code",
   "execution_count": 3,
   "id": "dec0ee61",
   "metadata": {},
   "outputs": [
    {
     "data": {
      "image/png": "[encoded data removed]",
      "text/plain": [
       "<Figure size 255.118x170.079 with 1 Axes>"
      ]
     },
     "metadata": {
      "needs_background": "light"
     },
     "output_type": "display_data"
    }
   ],
   "source": [
    "upp_vec = []\n",
    "low_vec = []\n",
    "\n",
    "for varying_value in varying_array:\n",
    "    x = 1 - (1-p_gen)**n\n",
    "    if varying_param == 'x':\n",
    "        x = varying_value\n",
    "    elif varying_param == 'p_gen':\n",
    "        p_gen = varying_value\n",
    "    elif varying_param == 'n':\n",
    "        p_gen = varying_value\n",
    "    elif varying_param == 'p_con':\n",
    "        p_con = varying_value\n",
    "    elif varying_param == 'Gamma':\n",
    "        Gamma = varying_value\n",
    "    \n",
    "    gamma = np.exp(Gamma)-1\n",
    "    \n",
    "    upper_bound = (gamma/4 + F_new*p_con + (1-p_con)*(4*F_new/3+11/12)*x ) / (gamma+p_con)\n",
    "    lower_bound = (gamma/4 + F_new*p_con) / (gamma+p_con)\n",
    "    \n",
    "    upp_vec += [upper_bound]\n",
    "    low_vec += [lower_bound]\n",
    "    \n",
    "## PLOT ##\n",
    "xfig = 9 # cm\n",
    "yfig = 6 # cm\n",
    "fontsize_labels = 8\n",
    "\n",
    "# Plot\n",
    "fig, ax = plt.subplots(figsize=(xfig/2.54, yfig/2.54))\n",
    "plt.plot(varying_array, upp_vec, color='tab:blue')\n",
    "plt.plot(varying_array, low_vec, color='tab:blue')\n",
    "plt.fill_between(varying_array, upp_vec, low_vec,\n",
    "                 color='tab:blue', alpha=0.3)\n",
    "#plt.fill_between(varying_array, upp_vec, low_vec, hatch='//',\n",
    "#                 color='None', edgecolor='tab:blue', alpha=0.2)\n",
    "\n",
    "# Limits\n",
    "plt.xlim([varying_array[0],varying_array[-1]])\n",
    "plt.ylim([0,1])\n",
    "\n",
    "# Labels and ticks\n",
    "if varying_param == 'x':\n",
    "    xlab = 'Effective generation probability'\n",
    "elif varying_param == 'p_gen':\n",
    "    xlab = 'Generation probability'\n",
    "elif varying_param == 'n':\n",
    "    xlab = 'Number of B memories'\n",
    "elif varying_param == 'p_con':\n",
    "    xlab = 'Probability of consumption'\n",
    "elif varying_param == 'Gamma':\n",
    "    xlab = r'Noise $\\Gamma$'\n",
    "plt.xlabel(xlab, fontsize=fontsize_labels)\n",
    "plt.ylabel('Avg. consumed fidelity', fontsize=fontsize_labels)\n",
    "ax.tick_params(labelsize=fontsize_labels-1)\n",
    "\n",
    "if savefig:\n",
    "    filename = 'figs/bounds-F-vs-%s-pgen%.3f-n%d-Fnew%.3f-pcon%.3f-G%.3f.pdf'%(varying_param,\n",
    "                                                            p_gen, n, F_new, p_con, Gamma)\n",
    "    plt.savefig(filename, dpi=300, bbox_inches='tight')\n",
    "else:\n",
    "    plt.show()"
   ]
  },
  {
   "cell_type": "markdown",
   "id": "aed860e2",
   "metadata": {},
   "source": [
    "---\n",
    "---\n",
    "## Bounds on the fidelity for two different $\\Gamma$"
   ]
  },
  {
   "cell_type": "code",
   "execution_count": 72,
   "id": "045b8251",
   "metadata": {},
   "outputs": [],
   "source": [
    "# x-axis\n",
    "varying_param = 'x' #'n' #\n",
    "varying_array = np.linspace(0,1,50) #np.arange(1,50) #\n",
    "\n",
    "# Parameters\n",
    "p_gen = 0.1\n",
    "n = 5\n",
    "F_new = 0.95\n",
    "p_con = 0.7\n",
    "Gamma1 = 0.1\n",
    "Gamma2 = 1\n",
    "\n",
    "savefig = True"
   ]
  },
  {
   "cell_type": "code",
   "execution_count": 73,
   "id": "c31c31e7",
   "metadata": {},
   "outputs": [
    {
     "data": {
      "image/png": "[encoded data removed]",
      "text/plain": [
       "<Figure size 255.118x170.079 with 1 Axes>"
      ]
     },
     "metadata": {
      "needs_background": "light"
     },
     "output_type": "display_data"
    }
   ],
   "source": [
    "Gamma_vec = [Gamma1, Gamma2]\n",
    "upp_vec = [[] for _ in Gamma_vec]\n",
    "low_vec = [[] for _ in Gamma_vec]\n",
    "\n",
    "for idx_Gamma, Gamma in enumerate(Gamma_vec):\n",
    "    for varying_value in varying_array:\n",
    "        if varying_param == 'x':\n",
    "            x = varying_value\n",
    "        elif varying_param == 'p_gen':\n",
    "            p_gen = varying_value\n",
    "            x = 1 - (1-p_gen)**n\n",
    "        elif varying_param == 'n':\n",
    "            n = varying_value\n",
    "            x = 1 - (1-p_gen)**n\n",
    "        elif varying_param == 'p_con':\n",
    "            p_con = varying_value\n",
    "\n",
    "        gamma = np.exp(Gamma)-1\n",
    "\n",
    "        # Old upper bound\n",
    "        #upper_bound = (gamma/4 + F_new*p_con + (1-p_con)*(4*F_new/3+11/12)*x ) / (gamma+p_con)\n",
    "        upper_bound = (gamma/4 + F_new*p_con + (1-p_con)*(3/4)*x ) / (gamma+p_con)\n",
    "        lower_bound = (gamma/4 + F_new*p_con) / (gamma+p_con)\n",
    "\n",
    "        upp_vec += [upper_bound]\n",
    "        low_vec += [lower_bound]\n",
    "\n",
    "        upp_vec[idx_Gamma] += [upper_bound]\n",
    "        low_vec[idx_Gamma] += [lower_bound]\n",
    "    \n",
    "## PLOT ##\n",
    "xfig = 9 # cm\n",
    "yfig = 6 # cm\n",
    "fontsize_labels = 8\n",
    "colors = ['tab:orange', 'tab:blue']\n",
    "hatches = ['\\\\\\\\', '//']\n",
    "\n",
    "# Plot\n",
    "fig, ax = plt.subplots(figsize=(xfig/2.54, yfig/2.54))\n",
    "for idx_Gamma, Gamma in enumerate(Gamma_vec):\n",
    "    plt.plot(varying_array, upp_vec[idx_Gamma], color=colors[idx_Gamma])\n",
    "    plt.plot(varying_array, low_vec[idx_Gamma], color=colors[idx_Gamma])\n",
    "    plt.fill_between(varying_array, upp_vec[idx_Gamma], low_vec[idx_Gamma],\n",
    "                     color=colors[idx_Gamma], alpha=0.3)\n",
    "    plt.fill_between(varying_array, upp_vec[idx_Gamma], low_vec[idx_Gamma], hatch=hatches[idx_Gamma],\n",
    "                     color='None', edgecolor=colors[idx_Gamma], alpha=0.2,\n",
    "                     label=r'Noise: $\\Gamma=$%.1f'%Gamma)\n",
    "plt.plot([varying_array[0],varying_array[-1]], [F_new, F_new], ':', color='k', label=r'$F_\\mathrm{new}$')\n",
    "\n",
    "# Limits\n",
    "plt.xlim([varying_array[0],varying_array[-1]])\n",
    "plt.ylim([0.5,1])\n",
    "\n",
    "# Labels and ticks\n",
    "if varying_param == 'x':\n",
    "    xlab = 'Effective generation probability'\n",
    "elif varying_param == 'p_gen':\n",
    "    xlab = 'Generation probability'\n",
    "elif varying_param == 'n':\n",
    "    xlab = 'Number of B memories'\n",
    "elif varying_param == 'p_con':\n",
    "    xlab = 'Probability of consumption'\n",
    "elif varying_param == 'Gamma':\n",
    "    xlab = r'Noise $\\Gamma$'\n",
    "\n",
    "plt.xlabel(xlab, fontsize=fontsize_labels)\n",
    "plt.ylabel('Avg. consumed fidelity', fontsize=fontsize_labels)\n",
    "ax.tick_params(labelsize=fontsize_labels-1)\n",
    "plt.legend(fontsize=fontsize_labels-1)\n",
    "\n",
    "if savefig:\n",
    "    if varying_param == 'x':\n",
    "        filename = 'figs/bounds-F-vs-%s-Fnew%.3f-pcon%.3f.pdf'%(varying_param, F_new, p_con)\n",
    "    elif varying_param == 'n':\n",
    "        filename = 'figs/bounds-F-vs-%s-pgen%.3f-Fnew%.3f-pcon%.3f.pdf'%(varying_param,\n",
    "                                                            p_gen, F_new, p_con)\n",
    "    else:\n",
    "        filename = 'figs/bounds-F-vs-%s-pgen%.3f-n%d-Fnew%.3f-pcon%.3f.pdf'%(varying_param,\n",
    "                                                            p_gen, n, F_new, p_con)\n",
    "    plt.savefig(filename, dpi=300, bbox_inches='tight')\n",
    "else:\n",
    "    plt.show()"
   ]
  },
  {
   "cell_type": "code",
   "execution_count": null,
   "id": "c75bb51f",
   "metadata": {},
   "outputs": [],
   "source": []
  },
  {
   "cell_type": "code",
   "execution_count": null,
   "id": "34ceb90c",
   "metadata": {},
   "outputs": [],
   "source": []
  },
  {
   "cell_type": "code",
   "execution_count": null,
   "id": "311a80a4",
   "metadata": {},
   "outputs": [],
   "source": []
  },
  {
   "cell_type": "code",
   "execution_count": null,
   "id": "a54d5514",
   "metadata": {},
   "outputs": [],
   "source": []
  },
  {
   "cell_type": "code",
   "execution_count": null,
   "id": "cafa5481",
   "metadata": {},
   "outputs": [],
   "source": []
  },
  {
   "cell_type": "code",
   "execution_count": null,
   "id": "44799209",
   "metadata": {},
   "outputs": [],
   "source": []
  },
  {
   "cell_type": "code",
   "execution_count": null,
   "id": "4bc0d276",
   "metadata": {},
   "outputs": [],
   "source": []
  },
  {
   "cell_type": "code",
   "execution_count": null,
   "id": "deddd57d",
   "metadata": {},
   "outputs": [],
   "source": []
  },
  {
   "cell_type": "code",
   "execution_count": null,
   "id": "19eb8c1c",
   "metadata": {},
   "outputs": [],
   "source": []
  },
  {
   "cell_type": "code",
   "execution_count": null,
   "id": "3f4d940c",
   "metadata": {},
   "outputs": [],
   "source": []
  }
 ],
 "metadata": {
  "kernelspec": {
   "display_name": "Python 3",
   "language": "python",
   "name": "python3"
  },
  "language_info": {
   "codemirror_mode": {
    "name": "ipython",
    "version": 3
   },
   "file_extension": ".py",
   "mimetype": "text/x-python",
   "name": "python",
   "nbconvert_exporter": "python",
   "pygments_lexer": "ipython3",
   "version": "3.8.8"
  }
 },
 "nbformat": 4,
 "nbformat_minor": 5
}
