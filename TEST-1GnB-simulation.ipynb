{
 "cells": [
  {
   "cell_type": "markdown",
   "id": "7a11a714",
   "metadata": {},
   "source": [
    "# Testing 1GnB simulation"
   ]
  },
  {
   "cell_type": "code",
   "execution_count": 1,
   "id": "62c9b13a",
   "metadata": {},
   "outputs": [],
   "source": [
    "import numpy as np\n",
    "import math\n",
    "import importlib as imp\n",
    "import matplotlib.pyplot as plt\n",
    "from tqdm.notebook import tqdm as tqdmn\n",
    "\n",
    "import main_1GnB as main"
   ]
  },
  {
   "cell_type": "markdown",
   "id": "afdc3249",
   "metadata": {},
   "source": [
    "---\n",
    "---\n",
    "## Simulate Bernoulli trials: generate consumption requests vector"
   ]
  },
  {
   "cell_type": "code",
   "execution_count": 2,
   "id": "e9f731b3",
   "metadata": {},
   "outputs": [
    {
     "name": "stdout",
     "output_type": "stream",
     "text": [
      "0.225\n",
      "0.226 (0.004)\n"
     ]
    }
   ],
   "source": [
    "p_cons = 0.225\n",
    "t_end = 10000\n",
    "\n",
    "cons_requests = (np.random.rand(t_end) < p_cons)\n",
    "\n",
    "print('%.3f'%p_cons)\n",
    "p_cons_estimate = sum(cons_requests)/len(cons_requests)\n",
    "print('%.3f (%.3f)'%(p_cons_estimate, np.sqrt(p_cons_estimate*(1-p_cons_estimate)/len(cons_requests)) ))"
   ]
  },
  {
   "cell_type": "markdown",
   "id": "270c93dd",
   "metadata": {},
   "source": [
    "---\n",
    "---\n",
    "## Testing `single_run_1GnB()` - time evolution"
   ]
  },
  {
   "cell_type": "code",
   "execution_count": 47,
   "id": "83bee983",
   "metadata": {},
   "outputs": [],
   "source": [
    "n = 2\n",
    "\n",
    "# GEN\n",
    "p_gen = 1\n",
    "F_new = 0.8\n",
    "rho_new = np.diag([F_new, (1-F_new)/3, (1-F_new)/3, (1-F_new)/3])\n",
    "\n",
    "# PURIF\n",
    "q_purif = 0.3\n",
    "purif_protocol = main.DEJMPS\n",
    "pur_after_swap = False\n",
    "\n",
    "# NOISE\n",
    "Gamma = 1/5\n",
    "\n",
    "# CONS\n",
    "p_cons = 0.2\n",
    "\n",
    "# Numerical\n",
    "t_end = 50\n",
    "randomseed = 2"
   ]
  },
  {
   "cell_type": "code",
   "execution_count": 48,
   "id": "07743092",
   "metadata": {},
   "outputs": [
    {
     "name": "stdout",
     "output_type": "stream",
     "text": [
      "Average consumed fidelity: 0.649 (0.009)\n",
      "Average availability: 0.889 (0.105)\n"
     ]
    }
   ],
   "source": [
    "imp.reload(main)\n",
    "\n",
    "Fcons_avg, Fcons_stderr, A_avg, A_stderr, buffered_fidelity, cons_requests, purif_events = main.single_run_1GnB(n, p_gen, rho_new, q_purif, \n",
    "                                                                               purif_protocol, pur_after_swap, Gamma,\n",
    "                                                                               p_cons, t_end, randomseed)\n",
    "\n",
    "print('Average consumed fidelity: %.3f (%.3f)'%(Fcons_avg, Fcons_stderr))\n",
    "print('Average availability: %.3f (%.3f)'%(A_avg, A_stderr))"
   ]
  },
  {
   "cell_type": "code",
   "execution_count": 49,
   "id": "f73ed81f",
   "metadata": {},
   "outputs": [
    {
     "data": {
      "image/png": "[encoded data removed]",
      "text/plain": [
       "<Figure size 432x288 with 1 Axes>"
      ]
     },
     "metadata": {
      "needs_background": "light"
     },
     "output_type": "display_data"
    }
   ],
   "source": [
    "imp.reload(main)\n",
    "\n",
    "main.plot_run_1GnB(buffered_fidelity, cons_requests, purif_events, n, p_gen, rho_new, q_purif, purif_protocol,\n",
    "                       pur_after_swap, Gamma, p_cons, t_end, randomseed)"
   ]
  },
  {
   "cell_type": "markdown",
   "id": "53c9918b",
   "metadata": {},
   "source": [
    "---\n",
    "---\n",
    "## Testing `single_run_1GnB()` - availability and consumed fidelity"
   ]
  },
  {
   "cell_type": "code",
   "execution_count": 63,
   "id": "fd39e4c3",
   "metadata": {},
   "outputs": [],
   "source": [
    "n = 2\n",
    "\n",
    "# GEN\n",
    "p_gen = 1\n",
    "F_new = 0.8\n",
    "rho_new = np.diag([F_new, (1-F_new)/3, (1-F_new)/3, (1-F_new)/3])\n",
    "\n",
    "# PURIF\n",
    "q_purif = 0.3\n",
    "purif_protocol = main.DEJMPS\n",
    "pur_after_swap = False\n",
    "\n",
    "# NOISE\n",
    "Gamma = 1/5\n",
    "\n",
    "# CONS\n",
    "p_cons = 0.2\n",
    "\n",
    "# Numerical\n",
    "t_end_vec = [int(10**i) for i in np.linspace(1,5,50)]\n",
    "randomseed = 2"
   ]
  },
  {
   "cell_type": "code",
   "execution_count": 73,
   "id": "c6ab60e9",
   "metadata": {},
   "outputs": [
    {
     "data": {
      "application/vnd.jupyter.widget-view+json": {
       "model_id": "",
       "version_major": 2,
       "version_minor": 0
      },
      "text/plain": [
       "  0%|          | 0/50 [00:00<?, ?it/s]"
      ]
     },
     "metadata": {},
     "output_type": "display_data"
    }
   ],
   "source": [
    "imp.reload(main)\n",
    "\n",
    "Fcons_avg_vec = []\n",
    "Fcons_stderr_vec = []\n",
    "A_avg_vec = []\n",
    "A_stderr_vec = []\n",
    "\n",
    "for t_end in tqdmn(t_end_vec, leave=False):\n",
    "    Fcons_avg, Fcons_stderr, A_avg, A_stderr, _, _, _ = main.single_run_1GnB(n, p_gen, rho_new, q_purif, \n",
    "                                                                               purif_protocol, pur_after_swap, Gamma,\n",
    "                                                                               p_cons, t_end, randomseed)\n",
    "    Fcons_avg_vec += [Fcons_avg]\n",
    "    Fcons_stderr_vec += [Fcons_stderr]\n",
    "    A_avg_vec += [A_avg]\n",
    "    A_stderr_vec += [A_stderr]"
   ]
  },
  {
   "cell_type": "code",
   "execution_count": 74,
   "id": "21020991",
   "metadata": {},
   "outputs": [
    {
     "data": {
      "text/plain": [
       "<matplotlib.legend.Legend at 0x7faf10d38970>"
      ]
     },
     "execution_count": 74,
     "metadata": {},
     "output_type": "execute_result"
    },
    {
     "data": {
      "image/png": "[encoded data removed]",
      "text/plain": [
       "<Figure size 432x288 with 1 Axes>"
      ]
     },
     "metadata": {
      "needs_background": "light"
     },
     "output_type": "display_data"
    }
   ],
   "source": [
    "#------------------------------------\n",
    "# Plot\n",
    "#------------------------------------\n",
    "fig, ax = plt.subplots()\n",
    "plt.errorbar(t_end_vec, Fcons_avg_vec, yerr=Fcons_stderr_vec, label=r'$\\overline{F}_\\mathrm{cons}$')\n",
    "plt.errorbar(t_end_vec, A_avg_vec, yerr=A_stderr_vec, label=r'Availability')\n",
    "\n",
    "plt.xscale('log')\n",
    "\n",
    "plt.xlabel('Simulated time steps')\n",
    "\n",
    "plt.legend()"
   ]
  },
  {
   "cell_type": "markdown",
   "id": "4590ce7f",
   "metadata": {},
   "source": [
    "---\n",
    "### CONCLUSIONS:\n",
    " 1. x\n",
    "---"
   ]
  },
  {
   "cell_type": "code",
   "execution_count": null,
   "id": "3cdd2053",
   "metadata": {},
   "outputs": [],
   "source": []
  },
  {
   "cell_type": "code",
   "execution_count": null,
   "id": "b18ff146",
   "metadata": {},
   "outputs": [],
   "source": []
  },
  {
   "cell_type": "code",
   "execution_count": null,
   "id": "8a9c7299",
   "metadata": {},
   "outputs": [],
   "source": []
  },
  {
   "cell_type": "code",
   "execution_count": null,
   "id": "b15be496",
   "metadata": {},
   "outputs": [],
   "source": []
  },
  {
   "cell_type": "code",
   "execution_count": null,
   "id": "e67cf1d3",
   "metadata": {},
   "outputs": [],
   "source": []
  },
  {
   "cell_type": "code",
   "execution_count": null,
   "id": "3cb1e6da",
   "metadata": {},
   "outputs": [],
   "source": []
  },
  {
   "cell_type": "code",
   "execution_count": null,
   "id": "d62efcf0",
   "metadata": {},
   "outputs": [],
   "source": []
  },
  {
   "cell_type": "code",
   "execution_count": null,
   "id": "3b421056",
   "metadata": {},
   "outputs": [],
   "source": []
  },
  {
   "cell_type": "code",
   "execution_count": null,
   "id": "df4a0fa1",
   "metadata": {},
   "outputs": [],
   "source": []
  },
  {
   "cell_type": "code",
   "execution_count": null,
   "id": "15622ef7",
   "metadata": {},
   "outputs": [],
   "source": []
  }
 ],
 "metadata": {
  "kernelspec": {
   "display_name": "Python 3",
   "language": "python",
   "name": "python3"
  },
  "language_info": {
   "codemirror_mode": {
    "name": "ipython",
    "version": 3
   },
   "file_extension": ".py",
   "mimetype": "text/x-python",
   "name": "python",
   "nbconvert_exporter": "python",
   "pygments_lexer": "ipython3",
   "version": "3.8.8"
  }
 },
 "nbformat": 4,
 "nbformat_minor": 5
}
