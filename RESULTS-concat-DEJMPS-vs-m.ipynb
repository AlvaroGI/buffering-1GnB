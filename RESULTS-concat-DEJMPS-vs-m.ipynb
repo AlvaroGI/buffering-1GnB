{
 "cells": [
  {
   "cell_type": "markdown",
   "id": "7a11a714",
   "metadata": {},
   "source": [
    "# Analysis of number of concatenations, $m$"
   ]
  },
  {
   "cell_type": "code",
   "execution_count": 20,
   "id": "62c9b13a",
   "metadata": {},
   "outputs": [],
   "source": [
    "import numpy as np\n",
    "import math\n",
    "import importlib as imp\n",
    "import matplotlib.pyplot as plt\n",
    "from tqdm.notebook import tqdm as tqdmn\n",
    "from scipy.optimize import fsolve\n",
    "\n",
    "import main_1GnB as main"
   ]
  },
  {
   "cell_type": "markdown",
   "id": "a9360e7d",
   "metadata": {},
   "source": [
    "---\n",
    "---\n",
    "## Fixed $q$"
   ]
  },
  {
   "cell_type": "code",
   "execution_count": 24,
   "id": "141960b0",
   "metadata": {},
   "outputs": [],
   "source": [
    "n = 10\n",
    "\n",
    "# GEN\n",
    "p_gen = 0.5\n",
    "F_new = 0.9\n",
    "rho_new = np.diag([F_new, (1-F_new)/3, (1-F_new)/3, (1-F_new)/3])\n",
    "\n",
    "# PURIF\n",
    "q_purif = 1\n",
    "pur_after_swap = False\n",
    "\n",
    "# NOISE\n",
    "Gamma = 0.2#0.02\n",
    "\n",
    "# CONS\n",
    "p_cons = 0.1\n",
    "\n",
    "# Experiment\n",
    "max_concatenations = 10\n",
    "savefig = True"
   ]
  },
  {
   "cell_type": "code",
   "execution_count": 25,
   "id": "8ba35af2",
   "metadata": {
    "scrolled": false
   },
   "outputs": [
    {
     "data": {
      "image/png": "[encoded data removed]",
      "text/plain": [
       "<Figure size 255.118x170.079 with 1 Axes>"
      ]
     },
     "metadata": {
      "needs_background": "light"
     },
     "output_type": "display_data"
    }
   ],
   "source": [
    "## THEORY ##\n",
    "\n",
    "imp.reload(main)\n",
    "\n",
    "Fcons_theory_vec = [0 for m in range(max_concatenations+1)]\n",
    "\n",
    "for m in range(max_concatenations+1):\n",
    "    if m==0:\n",
    "        policy_name = 'Identity'\n",
    "    else:\n",
    "        policy_name = 'Concat. DEJMPS x%d'%m\n",
    "    purif_policy = main.policy_label_to_function(policy_name)\n",
    "    \n",
    "    A, Fcons = main.analytical_availability_Fcons(n, p_gen, rho_new, q_purif,\n",
    "                                                  purif_policy, pur_after_swap, Gamma, p_cons)\n",
    "    Fcons_theory_vec[m] = Fcons\n",
    "\n",
    "## PLOT ##\n",
    "xfig = 9\n",
    "yfig = 6\n",
    "fontsize_labels = 8\n",
    "fig, ax = plt.subplots(figsize=(xfig/2.54, yfig/2.54))\n",
    "    \n",
    "plt.scatter(range(max_concatenations+1), Fcons_theory_vec, s=10, color='k',\n",
    "            label=r'Concatenated DEJMPS')\n",
    "plt.plot(range(max_concatenations+1), Fcons_theory_vec, color='k', linestyle='-', alpha=0.5)\n",
    "plt.plot([0,max_concatenations], [F_new, F_new], color='tab:orange', linestyle='--',\n",
    "         label=r'Fidelity of new links $F_\\mathrm{new}$')\n",
    "\n",
    "## Plot specs ##\n",
    "plt.legend(fontsize=fontsize_labels)\n",
    "plt.xlabel(r'Number of concatenations', fontsize=fontsize_labels)\n",
    "plt.ylabel(r'Avg. consumed fidelity ($q=%.f$)'%q_purif, fontsize=fontsize_labels)\n",
    "ax.tick_params(labelsize=fontsize_labels-1)\n",
    "    \n",
    "plt.xlim([0,max_concatenations])\n",
    "#plt.ylim([0.78, 0.95])\n",
    "plt.ylim([0.5, 1])\n",
    "#ax.set_yticks(np.arange(0.8,0.95*1.0001,0.05))\n",
    "ax.set_yticks(np.arange(0.5,1*1.0001,0.1))\n",
    "\n",
    "\n",
    "if savefig:\n",
    "    filename = 'figs/concatDEJMPS-q%.3f-n%d-pg%.3f-rho00%.3f-rho11%.3f-rho22%.3f-Gamma%.3f-pc%.3f.pdf'%(q_purif,\n",
    "                n, p_gen, rho_new[0][0], rho_new[1][1], rho_new[2][2], Gamma, p_cons)\n",
    "    plt.savefig(filename, dpi=300, bbox_inches='tight')\n",
    "else:\n",
    "    plt.show()"
   ]
  },
  {
   "cell_type": "markdown",
   "id": "91d8c5dc",
   "metadata": {},
   "source": [
    "---\n",
    "### CONCLUSIONS:\n",
    " 1. x2 is the best when there is not much noise (e.g., $\\Gamma = 1/50$ and $n = 10$, $p_\\mathrm{gen}=0.5$, $F_\\mathrm{new}=0.9$, $\\rho_\\mathrm{new} = \\mathrm{diag}(F_\\mathrm{new}, (1-F_\\mathrm{new})/3, (1-F_\\mathrm{new})/3, (1-F_\\mathrm{new})/3)$, $q=1$, $p_\\mathrm{cons}=0.1$).\n",
    " 2. The avg. cons. fidelity is not maximized for x2 when there is a lot of noise (e.g., $\\Gamma=1$ and same parameters as above)."
   ]
  },
  {
   "cell_type": "markdown",
   "id": "e1af2779",
   "metadata": {},
   "source": [
    "---\n",
    "---\n",
    "## Same availability $A$"
   ]
  },
  {
   "cell_type": "code",
   "execution_count": 7,
   "id": "ba6e1814",
   "metadata": {},
   "outputs": [],
   "source": [
    "n = 10\n",
    "\n",
    "# GEN\n",
    "p_gen = 0.5\n",
    "F_new = 0.9\n",
    "rho_new = np.diag([F_new, (1-F_new)/3, (1-F_new)/3, (1-F_new)/3])\n",
    "\n",
    "# PURIF\n",
    "pur_after_swap = False\n",
    "\n",
    "# NOISE\n",
    "Gamma = 0.5\n",
    "\n",
    "# CONS\n",
    "p_cons = 0.1\n",
    "\n",
    "# Experiment\n",
    "A_min = 0.8\n",
    "max_concatenations = 10"
   ]
  },
  {
   "cell_type": "code",
   "execution_count": 8,
   "id": "2965fd58",
   "metadata": {
    "scrolled": false
   },
   "outputs": [
    {
     "name": "stderr",
     "output_type": "stream",
     "text": [
      "/Users/alvarogomezinesta/opt/anaconda3/lib/python3.8/site-packages/scipy/optimize/minpack.py:175: RuntimeWarning: The iteration is not making good progress, as measured by the \n",
      "  improvement from the last ten iterations.\n",
      "  warnings.warn(msg, RuntimeWarning)\n"
     ]
    },
    {
     "data": {
      "image/png": "[encoded data removed]",
      "text/plain": [
       "<Figure size 432x288 with 1 Axes>"
      ]
     },
     "metadata": {
      "needs_background": "light"
     },
     "output_type": "display_data"
    }
   ],
   "source": [
    "## THEORY ##\n",
    "\n",
    "imp.reload(main)\n",
    "\n",
    "Fcons_theory_vec = [None for m in range(max_concatenations+1)]\n",
    "Fcons_higherA = [None for m in range(max_concatenations+1)]\n",
    "\n",
    "for m in range(max_concatenations+1):\n",
    "    if m==0:\n",
    "        policy_name = 'Identity'\n",
    "    else:\n",
    "        policy_name = 'Concat. DEJMPS x%d'%m\n",
    "    purif_policy = main.policy_label_to_function(policy_name)\n",
    "    \n",
    "    f = lambda q: A_min-main.analytical_availability_Fcons(n, p_gen, rho_new, q,\n",
    "                                                     purif_policy, pur_after_swap, Gamma, p_cons)[0]\n",
    "    q_sol = fsolve(f, x0=0.5)[0]\n",
    "    A_sol, Fcons = main.analytical_availability_Fcons(n, p_gen, rho_new, q_sol,\n",
    "                                                  purif_policy, pur_after_swap, Gamma, p_cons)\n",
    "    if q_sol<0 or q_sol>1 or round(A_sol,3)!=round(A_min,3):\n",
    "        # Check if A is always larger than A_min\n",
    "        # If so, take A(q=1)\n",
    "        A_sol, Fcons = main.analytical_availability_Fcons(n, p_gen, rho_new, 1,\n",
    "                                                      purif_policy, pur_after_swap, Gamma, p_cons)\n",
    "        if A_sol>A_min:\n",
    "            Fcons_theory_vec[m] = Fcons\n",
    "            Fcons_higherA[m] = Fcons\n",
    "        else:\n",
    "            pass\n",
    "    else:\n",
    "        Fcons_theory_vec[m] = Fcons\n",
    "\n",
    "## PLOT ##\n",
    "plt.scatter(range(max_concatenations+1), Fcons_theory_vec, color='k',\n",
    "            label=r'Concatenated DEJMPS ($A=%.2f$)'%A_min)\n",
    "plt.scatter(range(max_concatenations+1), Fcons_higherA, color='tab:blue', marker='s',\n",
    "            label=r'Concatenated DEJMPS ($A>%.2f$)'%A_min)\n",
    "plt.plot(range(max_concatenations+1), Fcons_theory_vec, color='k', linestyle='-', alpha=0.5)\n",
    "plt.plot([0,max_concatenations], [F_new, F_new], color='tab:orange', linestyle='--',\n",
    "         label=r'Fidelity of new links $F_\\mathrm{new}$')\n",
    "\n",
    "plt.xlim([0,max_concatenations])\n",
    "\n",
    "plt.xlabel(r'Number of concatenations')\n",
    "plt.ylabel(r'Avg. consumed fidelity')\n",
    "plt.legend()\n",
    "\n",
    "if savefig:\n",
    "    filename = 'figs/concatDEJMPS-A%.3f-n%d-pg%.3f-rho00%.3f-rho11%.3f-rho22%.3f-Gamma%.3f-pc%.3f.pdf'%(A_min,\n",
    "                n, p_gen, rho_new[0][0], rho_new[1][1], rho_new[2][2], Gamma, p_cons)\n",
    "    plt.savefig(filename, dpi=300, bbox_inches='tight')\n",
    "else:\n",
    "    plt.show()"
   ]
  },
  {
   "cell_type": "markdown",
   "id": "1844bca1",
   "metadata": {},
   "source": [
    "---\n",
    "### CONCLUSIONS:\n",
    " 1. x2 is the best when there is not much noise (e.g., $A=0.85$, $\\Gamma = 0.01$ and $n = 10$, $p_\\mathrm{gen}=0.5$, $F_\\mathrm{new}=0.9$, $\\rho_\\mathrm{new} = \\mathrm{diag}(F_\\mathrm{new}, (1-F_\\mathrm{new})/3, (1-F_\\mathrm{new})/3, (1-F_\\mathrm{new})/3)$, $p_\\mathrm{cons}=0.1$).\n",
    " 2. x1 becomes the best sometimes (e.g., $\\Gamma = 0.02$ and same parameters as above)"
   ]
  },
  {
   "cell_type": "code",
   "execution_count": null,
   "id": "3cb1e6da",
   "metadata": {},
   "outputs": [],
   "source": []
  },
  {
   "cell_type": "code",
   "execution_count": null,
   "id": "d62efcf0",
   "metadata": {},
   "outputs": [],
   "source": []
  },
  {
   "cell_type": "code",
   "execution_count": null,
   "id": "3b421056",
   "metadata": {},
   "outputs": [],
   "source": []
  },
  {
   "cell_type": "code",
   "execution_count": null,
   "id": "df4a0fa1",
   "metadata": {},
   "outputs": [],
   "source": []
  },
  {
   "cell_type": "code",
   "execution_count": null,
   "id": "15622ef7",
   "metadata": {},
   "outputs": [],
   "source": []
  }
 ],
 "metadata": {
  "kernelspec": {
   "display_name": "Python 3",
   "language": "python",
   "name": "python3"
  },
  "language_info": {
   "codemirror_mode": {
    "name": "ipython",
    "version": 3
   },
   "file_extension": ".py",
   "mimetype": "text/x-python",
   "name": "python",
   "nbconvert_exporter": "python",
   "pygments_lexer": "ipython3",
   "version": "3.8.8"
  }
 },
 "nbformat": 4,
 "nbformat_minor": 5
}
