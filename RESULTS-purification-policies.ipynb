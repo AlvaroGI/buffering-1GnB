{
 "cells": [
  {
   "cell_type": "markdown",
   "id": "7a11a714",
   "metadata": {},
   "source": [
    "# Analysis of output fidelity and probability of success of the purification policies"
   ]
  },
  {
   "cell_type": "markdown",
   "id": "5d75cb1b",
   "metadata": {},
   "source": [
    "Purification policy: set of purifications protocols $\\mathcal{P}_i$, $i\\in\\{1,...,n\\}$. Protocol $\\mathcal{P}_k$ is applied when $k$ new links are generated in the bad memories.\n",
    "\n",
    "Assumptions about the purification protocol:\n",
    " 1. When $k$ new links are generated, the purification protocol $\\mathcal{P}_k$ acts as follows:\n",
    "     1. It performs $k$-to-1 purification. This produces an output link with fidelity $F_1$, with success probability $p_1$.\n",
    "     2. The output link is used to perform DEJMPS on the buffered link. This produces an output link with fidelity $F$, with success probability $p_2$.\n",
    " 2. The second step of the policy is applied even if the first one fails. That is, the probability of success of the whole purification protocol is $p_1 p_2$."
   ]
  },
  {
   "cell_type": "code",
   "execution_count": 2,
   "id": "62c9b13a",
   "metadata": {},
   "outputs": [],
   "source": [
    "import numpy as np\n",
    "import math\n",
    "import importlib as imp\n",
    "import matplotlib.pyplot as plt\n",
    "from tqdm.notebook import tqdm as tqdmn\n",
    "\n",
    "import main_1GnB as main"
   ]
  },
  {
   "cell_type": "markdown",
   "id": "a9360e7d",
   "metadata": {},
   "source": [
    "---\n",
    "---\n",
    "## Output fidelity $F$ and success probability $p=p_1p_2$ of the protocol"
   ]
  },
  {
   "cell_type": "code",
   "execution_count": null,
   "id": "8a9c7299",
   "metadata": {},
   "outputs": [],
   "source": [
    "DO SIMILAR INTERACTIVE PLOT!"
   ]
  },
  {
   "cell_type": "code",
   "execution_count": null,
   "id": "e67cf1d3",
   "metadata": {},
   "outputs": [],
   "source": []
  },
  {
   "cell_type": "code",
   "execution_count": null,
   "id": "3cb1e6da",
   "metadata": {},
   "outputs": [],
   "source": []
  },
  {
   "cell_type": "code",
   "execution_count": null,
   "id": "d62efcf0",
   "metadata": {},
   "outputs": [],
   "source": []
  },
  {
   "cell_type": "code",
   "execution_count": null,
   "id": "3b421056",
   "metadata": {},
   "outputs": [],
   "source": []
  },
  {
   "cell_type": "code",
   "execution_count": null,
   "id": "df4a0fa1",
   "metadata": {},
   "outputs": [],
   "source": []
  },
  {
   "cell_type": "code",
   "execution_count": null,
   "id": "15622ef7",
   "metadata": {},
   "outputs": [],
   "source": []
  }
 ],
 "metadata": {
  "kernelspec": {
   "display_name": "Python 3",
   "language": "python",
   "name": "python3"
  },
  "language_info": {
   "codemirror_mode": {
    "name": "ipython",
    "version": 3
   },
   "file_extension": ".py",
   "mimetype": "text/x-python",
   "name": "python",
   "nbconvert_exporter": "python",
   "pygments_lexer": "ipython3",
   "version": "3.8.8"
  }
 },
 "nbformat": 4,
 "nbformat_minor": 5
}
